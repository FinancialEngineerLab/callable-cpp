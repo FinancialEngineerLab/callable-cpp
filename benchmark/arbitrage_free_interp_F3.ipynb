{
 "cells": [
  {
   "cell_type": "markdown",
   "metadata": {},
   "source": [
    "This is an attempt to try mimic the simplified F3 workflow in Python. Some details are missing as the F3 design is not fully represented and the successful run of this Python notebook does not guarantee a smooth implementation in F3."
   ]
  },
  {
   "cell_type": "code",
   "execution_count": 1040,
   "metadata": {},
   "outputs": [],
   "source": [
    "import math\n",
    "from scipy.stats import norm\n",
    "import scipy.interpolate\n",
    "import numpy as np\n",
    "import copy\n",
    "import bisect"
   ]
  },
  {
   "cell_type": "code",
   "execution_count": 1041,
   "metadata": {},
   "outputs": [],
   "source": [
    "### Helper function\n",
    "\n",
    "### Take in expiry time, ratio strike, and volatility, returns the normalized European call option price and its vega\n",
    "class BlackPricerInF3:\n",
    "    def __init__(self, expiryTime, ratioStrike, volatility):\n",
    "        vol_sqrt_t = volatility*math.sqrt(expiryTime)\n",
    "        self.m_D1 = (math.log(1./ratioStrike) + 0.5*vol_sqrt_t*vol_sqrt_t) / vol_sqrt_t\n",
    "        self.m_D2 = self.m_D1 - vol_sqrt_t\n",
    "        self.m_K = ratioStrike\n",
    "        self.m_T = expiryTime\n",
    "    def price(self):\n",
    "        return norm.cdf(self.m_D1) - self.m_K*norm.cdf(self.m_D2)\n",
    "    def vega(self):\n",
    "        return norm.pdf(self.m_D1)*math.sqrt(self.m_T)"
   ]
  },
  {
   "cell_type": "code",
   "execution_count": 1042,
   "metadata": {},
   "outputs": [],
   "source": [
    "### Helper function\n",
    "\n",
    "### Form a piece-wise constant volatility function given the market ratio strikes and the volatilities, vol(k),\n",
    "### This is a function of the ratio strike\n",
    "### The mid-point of adjacent market ratio strikes is used to mark each segment\n",
    "### F3 naming\n",
    "def piecewiseConstantCenterAndSnapLeftOnCenterPointInterpolationBuilder(marketRatioStrikes, volatilities):\n",
    "    segmentPoints = []\n",
    "    for i in range(0, len(marketRatioStrikes) - 1):\n",
    "        segmentPoints.append((marketRatioStrikes[i+1] + marketRatioStrikes[i])/2.)\n",
    "    return scipy.interpolate.interp1d(x = segmentPoints,\n",
    "                                      y = volatilities[0:len(segmentPoints)],\n",
    "                                      kind = 'next',\n",
    "                                      bounds_error = False,\n",
    "                                      fill_value = (volatilities[0], volatilities[-1]))"
   ]
  },
  {
   "cell_type": "code",
   "execution_count": 1043,
   "metadata": {},
   "outputs": [],
   "source": [
    "### Helper function\n",
    "\n",
    "### Solution of tri-diagonal system\n",
    "### A*x = rhs, where A is a tri-diagonal matrix\n",
    "### Thomas algorithm\n",
    "### a - subdiagonal, b - diagonal, c - superdiagonal, x - solution, r - righ hand side (solution after the sucessful run)\n",
    "def solveTridiagonalSystem(a, b, c, r):\n",
    "    size = len(r)\n",
    "    # 1, Use linear combinations of rows to eliminate subdiagonal and make main diagonal equal to 1s\n",
    "    for i in range(0,size-1):\n",
    "        c[i] = c[i]/b[i]\n",
    "        r[i] = r[i]/b[i]\n",
    "        b[i+1] = b[i+1] - c[i]*a[i]\n",
    "        r[i+1] = r[i+1] - r[i]*a[i]\n",
    "    r[-1] = r[-1]/b[-1]\n",
    "    # 2, back-substitute, eliminating the cs, after this loop, x = r\n",
    "    for i in range(size-2, -1, -1):\n",
    "        r[i] -= r[i+1]*c[i]"
   ]
  },
  {
   "cell_type": "code",
   "execution_count": 1044,
   "metadata": {},
   "outputs": [],
   "source": [
    "class EuropeanCallOptionPriceCurvePricer:\n",
    "    def __init__(self, callPrice3dFunction):\n",
    "        self.m_CallFunc = callPrice3dFunction\n",
    "    def optionValue(self, strike, forward, time):\n",
    "        return self.m_CallFunc.value(strike, forward, time)"
   ]
  },
  {
   "cell_type": "code",
   "execution_count": 1045,
   "metadata": {},
   "outputs": [],
   "source": [
    "class Model:\n",
    "    def __init__(self, expiries, ratioStrikes, quotes):\n",
    "        self.m_Expiries = expiries\n",
    "        self.m_Strikes = ratioStrikes\n",
    "        self.m_Quotes = quotes\n",
    "        self.m_CurveMap = {}\n",
    "        self.m_CurveCalibrationStatus = {}\n",
    "    def addOrUpdateZeroDimCurveCalibration(self, tag, calibratedVols):\n",
    "        self.m_CurveMap[tag] = calibratedVols\n",
    "    def setCalibrationStatus(self, tag, flag):\n",
    "        self.m_CurveCalibrationStatus[tag] = flag # 0 not calibrated, 1 Calibrating, 2 Calibrated\n",
    "    def curveIsCalibrated(self, tag):\n",
    "        return self.m_CurveCalibrationStatus[tag] == 2\n",
    "    def curveIsCalibrating(self, tag):\n",
    "        return self.m_CurveCalibrationStatus[tag] == 1\n",
    "    def expiry(self, tag):\n",
    "        return self.m_Expiries[tag]\n",
    "    def strikes(self, tag):\n",
    "        return self.m_Strikes[tag]\n",
    "    def marketData(self, tag):\n",
    "        return self.m_Quotes[tag]\n",
    "    def calibratedVols(self, tag):\n",
    "        return self.m_CurveMap[tag]\n",
    "    def extendModelWithSuchCurve(self, pricer):\n",
    "        self.m_CallPricer = pricer\n",
    "        return self\n",
    "    def likelihoodFunc(self, vols, tag):\n",
    "        t = self.m_Expiries[tag]\n",
    "        self.addOrUpdateZeroDimCurveCalibration(tag, vols)\n",
    "        residuals = []\n",
    "        for i in range(len(self.m_Strikes[tag])):\n",
    "            k = self.m_Strikes[tag][i]\n",
    "            blackPricer = BlackPricerInF3(t, k, self.m_Quotes[tag][i])\n",
    "            modelValue = (self.m_CallPricer.optionValue(k, 1., t))\n",
    "            mdValue = (blackPricer.price())\n",
    "            residuals.append(abs((modelValue - mdValue)/blackPricer.vega()))\n",
    "        return residuals\n",
    "    def valueUseCalibratedPricer(self, k, f, t):\n",
    "        return self.m_CallPricer.optionValue(k, f, t)\n",
    "    def getCurve(self, tag):\n",
    "        if self.curveIsCalibrated(tag) or self.curveIsCalibrating(tag):\n",
    "            return self.calibratedVols(tag)\n",
    "        else:\n",
    "            self.setCalibrationStatus(tag, 1)\n",
    "            calibrationStart = time.time()\n",
    "            scipy.optimize.least_squares(self.likelihoodFunc,\n",
    "                                         self.marketData(tag),\n",
    "                                         method='lm',\n",
    "                                         args = ([tag,]),\n",
    "                                         xtol = 1e-5,\n",
    "                                         gtol = 1e-5,\n",
    "                                         ftol = 1e-5)\n",
    "            calibrationEnd = time.time()\n",
    "            self.setCalibrationStatus(tag, 2)\n",
    "            print (f\"calibration {tag} finishes in {calibrationEnd - calibrationStart} seconds\")\n",
    "            return self.calibratedVols(tag)"
   ]
  },
  {
   "cell_type": "code",
   "execution_count": 1046,
   "metadata": {},
   "outputs": [],
   "source": [
    "class PiecewiseConstantVolatility:\n",
    "    def __init__(self, tag, model):\n",
    "        self.m_Tag = tag\n",
    "        self.m_Model = model\n",
    "    def value(self, k):\n",
    "        calibratedParams = self.m_Model.getCurve(self.m_Tag)\n",
    "        pwcFunc = piecewiseConstantCenterAndSnapLeftOnCenterPointInterpolationBuilder(self.m_Model.strikes(self.m_Tag), calibratedParams)\n",
    "        return pwcFunc(k)\n",
    "    def underlyingIsCalibrated(self):\n",
    "        return self.m_Model.curveIsCalibrated(self.m_Tag)\n",
    "        "
   ]
  },
  {
   "cell_type": "code",
   "execution_count": 1047,
   "metadata": {},
   "outputs": [],
   "source": [
    "class ArbitrageFreeInterpolationEuroCallOptionPrice:\n",
    "    def __init__(self, timeVolFuncMap, minY, maxY, size):\n",
    "        self.m_TimeVolFuncMap = timeVolFuncMap\n",
    "        self.m_MinY = minY\n",
    "        self.m_MaxY = maxY\n",
    "        self.m_Size = size\n",
    "        self.m_Dy = (self.m_MaxY - self.m_MinY)/self.m_Size\n",
    "        self.m_Kgrid = [math.exp(self.m_MinY + i*self.m_Dy) for i in range(self.m_Size)]\n",
    "        self.m_CachedTimePriceMap = {}\n",
    "        mdExpTimes = self.m_TimeVolFuncMap.keys()\n",
    "        self.m_MdExpTimes = [mdT for mdT in mdExpTimes]\n",
    "        self.m_IntrinsicPrices = [max(1-strikeGridElem, 0.) for strikeGridElem in self.m_Kgrid]\n",
    "    def valueFuncAt(self, t):\n",
    "\n",
    "        if (t > self.m_MdExpTimes[-1]):\n",
    "            i = len(self.m_MdExpTimes)-1\n",
    "        else:\n",
    "            i = bisect.bisect_left(self.m_MdExpTimes, t)\n",
    "        previousCallPrices = []\n",
    "        dt = t\n",
    "        if i == 0:\n",
    "            previousCallPrices = copy.deepcopy(self.m_IntrinsicPrices)\n",
    "        else:\n",
    "            prevTime = self.m_MdExpTimes[i-1]\n",
    "            if (prevTime in self.m_CachedTimePriceMap):\n",
    "                previousCallPrices = copy.deepcopy(self.m_CachedTimePriceMap[prevTime])\n",
    "            else:\n",
    "                func = self.valueFuncAt(prevTime) ### Recursion\n",
    "                previousCallPrices = [func(k) for k in self.m_Kgrid]\n",
    "            dt = t - prevTime\n",
    "\n",
    "        volFunc = self.m_TimeVolFuncMap[self.m_MdExpTimes[i]]\n",
    "        calibVolatilityForGridStrikes = [volFunc.value(k) for k in self.m_Kgrid] ### Trigger the calibration\n",
    "        ### form tri-diagonal system\n",
    "        z = [dt*vol*vol/(2.*self.m_Dy) for vol in calibVolatilityForGridStrikes]\n",
    "        subdiag = []\n",
    "        diag = []\n",
    "        superdiag = []\n",
    "        diag.append(1.)\n",
    "        superdiag.append(0.)\n",
    "        for j in range(1, len(self.m_Kgrid)-1):\n",
    "            diag.append(1.+2.*z[j]/self.m_Dy)\n",
    "            subdiag.append(-z[j]*(1./self.m_Dy + 0.5))\n",
    "            superdiag.append(-z[j]*(1./self.m_Dy - 0.5))\n",
    "        diag.append(1.)\n",
    "        subdiag.append(0.)\n",
    "        ### solve tri-diagonal system\n",
    "        solveTridiagonalSystem(subdiag, diag, superdiag, previousCallPrices)\n",
    "        interpPriceFunction_t = scipy.interpolate.interp1d(x = self.m_Kgrid,\n",
    "                                                           y = previousCallPrices)\n",
    "        if volFunc.underlyingIsCalibrated():\n",
    "            self.m_CachedTimePriceMap[self.m_MdExpTimes[i]] = previousCallPrices\n",
    "        return interpPriceFunction_t\n",
    "    def value(self, k, f, t):\n",
    "        func = self.valueFuncAt(t)\n",
    "        return f*func(k/f)\n",
    "            "
   ]
  },
  {
   "cell_type": "code",
   "execution_count": 1048,
   "metadata": {},
   "outputs": [],
   "source": [
    "### set up market data for calibration\n",
    "expTimes = [0.025, 0.101, 0.197, 0.274, 0.523, 0.772, 1.769, 2.267, 2.784, 3.781, 4.778, 5.774]\n",
    "ratioStrikesMD = [[0.8613, 0.8796, 0.8979, 0.9163, 0.9346, 0.9529, 0.9712, 0.9896, 1.0079, 1.0262, 1.0445, 1.0629, 1.0812, 1.0995, 1.1178],\n",
    "                [0.8796, 0.8979, 0.9163, 0.9346, 0.9529, 0.9712, 0.9896, 1.0079, 1.0262, 1.0445, 1.0629, 1.0812, 1.0995, 1.1178],\n",
    "                [0.8796, 0.8979, 0.9163, 0.9346, 0.9529, 0.9712, 0.9896, 1.0079, 1.0262, 1.0445, 1.0629, 1.0812, 1.0995, 1.1178],\n",
    "                [0.7697, 0.8063, 0.8430, 0.8796, 0.9163, 0.9529, 0.9896, 1.0262, 1.0629, 1.0995, 1.1362, 1.1728, 1.2095, 1.2461],\n",
    "                [0.7697, 0.8063, 0.8430, 0.8796, 0.9163, 0.9529, 0.9896, 1.0262, 1.0629, 1.0995, 1.1362, 1.1728, 1.2095, 1.2461],\n",
    "                [0.7697, 0.8063, 0.8430, 0.8796, 0.9163, 0.9529, 0.9896, 1.0262, 1.0629, 1.0995, 1.1362, 1.1728, 1.2095, 1.2461],\n",
    "                [0.7697, 0.8063, 0.8430, 0.8796, 0.9163, 0.9529, 0.9896, 1.0262, 1.0629, 1.0995, 1.1362, 1.1728, 1.2095, 1.2461],\n",
    "                [0.8063, 0.8796, 0.9529, 1.0262, 1.0995, 1.1728],\n",
    "                [0.5131, 0.5864, 0.6597, 0.7330, 0.8063, 0.8796, 0.9529, 1.0262, 1.0995, 1.1728, 1.2461, 1.3194, 1.3927, 1.4660],\n",
    "                [0.5131, 0.5864, 0.6597, 0.7330, 0.8063, 0.8796, 1.0262, 1.0995, 1.1728, 1.2461, 1.3194, 1.3927, 1.4660],\n",
    "                [0.6597, 0.7330, 0.8063, 0.8796, 0.9529, 1.0262, 1.0995, 1.1728, 1.2461, 1.3194, 1.3927, 1.4660],\n",
    "                [0.8063, 0.8796, 0.9529, 1.0262, 1.0995, 1.1728, 1.2461, 1.3194, 1.3927]]\n",
    "volsMD = [[0.3365, 0.3216, 0.3043, 0.2880, 0.2724, 0.2586, 0.2466, 0.2358, 0.2247, 0.2159, 0.2091, 0.2056, 0.2045, 0.2025, 0.1933],\n",
    "        [0.2906, 0.2797, 0.2690, 0.2590, 0.2488, 0.2390, 0.2300, 0.2213, 0.2140, 0.2076, 0.2024, 0.1982, 0.1959, 0.1929],\n",
    "        [0.2764, 0.2672, 0.2578, 0.2489, 0.2405, 0.2329, 0.2253, 0.2184, 0.2123, 0.2069, 0.2025, 0.1984, 0.1944, 0.1920],\n",
    "        [0.3262, 0.3058, 0.2887, 0.2717, 0.2557, 0.2407, 0.2269, 0.2142, 0.2039, 0.1962, 0.1902, 0.1885, 0.1867, 0.1871],\n",
    "        [0.3079, 0.2936, 0.2798, 0.2663, 0.2531, 0.2404, 0.2284, 0.2173, 0.2074, 0.1988, 0.1914, 0.1854, 0.1811, 0.1785],\n",
    "        [0.3001, 0.2876, 0.2750, 0.2637, 0.2519, 0.2411, 0.2299, 0.2198, 0.2104, 0.2022, 0.1950, 0.1888, 0.1839, 0.1793],\n",
    "        [0.2843, 0.2753, 0.2666, 0.2575, 0.2497, 0.2418, 0.2347, 0.2283, 0.2213, 0.2151, 0.2091, 0.2039, 0.1990, 0.1945],\n",
    "        [0.2713, 0.2555, 0.2410, 0.2275, 0.2161, 0.2058],\n",
    "        [0.3366, 0.3178, 0.3019, 0.2863, 0.2711, 0.2580, 0.2448, 0.2322, 0.2219, 0.2122, 0.2054, 0.1988, 0.1930, 0.1849],\n",
    "        [0.3291, 0.3129, 0.2976, 0.2848, 0.2711, 0.2585, 0.2384, 0.2269, 0.2186, 0.2103, 0.2054, 0.2002, 0.1964],\n",
    "        [0.2975, 0.2848, 0.2722, 0.2611, 0.2501, 0.2392, 0.2305, 0.2223, 0.2164, 0.2105, 0.2054, 0.2012],\n",
    "        [0.2809, 0.2693, 0.2584, 0.2486, 0.2399, 0.2321, 0.2251, 0.2190, 0.2135]]"
   ]
  },
  {
   "cell_type": "code",
   "execution_count": 1049,
   "metadata": {},
   "outputs": [
    {
     "data": {
      "text/plain": [
       "<__main__.Model at 0x26f98dfdeb8>"
      ]
     },
     "execution_count": 1049,
     "metadata": {},
     "output_type": "execute_result"
    }
   ],
   "source": [
    "model = Model(expTimes, ratioStrikesMD, volsMD)\n",
    "numberOfCalib = len(volsMD)\n",
    "volFuncMap = {}\n",
    "for i in range(0, numberOfCalib):\n",
    "    volFuncMap[expTimes[i]] = PiecewiseConstantVolatility(i, model)\n",
    "    model.setCalibrationStatus(i, 0)\n",
    "threeDFunc = ArbitrageFreeInterpolationEuroCallOptionPrice(volFuncMap, math.log(0.3), math.log(1.9), 100)\n",
    "pricer = EuropeanCallOptionPriceCurvePricer(threeDFunc)\n",
    "model.extendModelWithSuchCurve(pricer)\n"
   ]
  },
  {
   "cell_type": "code",
   "execution_count": 1050,
   "metadata": {},
   "outputs": [
    {
     "name": "stdout",
     "output_type": "stream",
     "text": [
      "calibration 0 finishes in 14.277796983718872 seconds\n",
      "calibration 1 finishes in 7.638868570327759 seconds\n",
      "calibration 2 finishes in 7.654489994049072 seconds\n",
      "calibration 3 finishes in 7.65448784828186 seconds\n",
      "calibration 4 finishes in 7.607619047164917 seconds\n",
      "calibration 5 finishes in 7.63886833190918 seconds\n",
      "calibration 6 finishes in 8.810477018356323 seconds\n",
      "calibration 7 finishes in 1.5465185642242432 seconds\n",
      "calibration 8 finishes in 8.826123237609863 seconds\n",
      "calibration 9 finishes in 7.654500246047974 seconds\n",
      "calibration 10 finishes in 6.560986042022705 seconds\n",
      "calibration 11 finishes in 3.241579294204712 seconds\n",
      "0.25263776694146695\n",
      "time cost: 89.2216362953186\n"
     ]
    }
   ],
   "source": [
    "import time\n",
    "\n",
    "start = time.time()\n",
    "print (model.valueUseCalibratedPricer(0.9712, 1., 5.774))\n",
    "end = time.time()\n",
    "print(f\"time cost: {end - start}\")"
   ]
  },
  {
   "cell_type": "code",
   "execution_count": 1051,
   "metadata": {},
   "outputs": [],
   "source": [
    "### Roundtripping"
   ]
  },
  {
   "cell_type": "code",
   "execution_count": 1052,
   "metadata": {},
   "outputs": [],
   "source": [
    "priceErrors = []\n",
    "for time, strikes, vols in zip(expTimes, ratioStrikesMD, volsMD):\n",
    "    errors = []\n",
    "    for k, v in zip(strikes, vols):\n",
    "        marketPricer = BlackPricerInF3(time, k, v)\n",
    "        modelPrice = model.valueUseCalibratedPricer(k, 1., time)\n",
    "        errors.append(abs(modelPrice - marketPricer.price()))\n",
    "    priceErrors.append(errors)"
   ]
  },
  {
   "cell_type": "code",
   "execution_count": 1053,
   "metadata": {},
   "outputs": [
    {
     "name": "stdout",
     "output_type": "stream",
     "text": [
      "[[8.83182416089312e-14, 3.358147093734942e-13, 7.270008761661728e-10, 1.228652711515732e-08, 7.631359422166639e-08, 3.4839200861030983e-07, 1.3879971603944496e-06, 4.3039778894089775e-06, 8.516159626076325e-06, 8.922332177601147e-06, 4.273817421711866e-06, 9.023934514758802e-07, 8.848311738206749e-08, 3.20783910320036e-09, 2.832897582828131e-10], [3.454353053600201e-10, 2.2186562309567393e-08, 1.3951065226669446e-07, 4.075625861660326e-07, 8.859240927250323e-07, 1.9301914066655046e-06, 4.18766961238215e-06, 8.11867829035584e-06, 1.2587467537003572e-05, 1.4397972408132509e-05, 1.1396226943704603e-05, 5.973846889542698e-06, 1.8713749788735502e-06, 3.21892086916015e-07], [1.386903203393075e-09, 8.743367974073379e-10, 1.7575780927869822e-08, 3.507882828657216e-08, 7.866640955311865e-08, 1.3949743044722185e-07, 3.0759167248678443e-07, 5.642119666748879e-07, 9.712248267498835e-07, 1.2290279113487401e-06, 1.2885398031920597e-06, 8.329374630803438e-07, 4.895974156119906e-07, 3.198605374142571e-08], [3.8585801220847316e-13, 6.252220963176569e-13, 1.1227685448034208e-12, 2.0450863225107696e-12, 3.939321091550596e-12, 7.684436420518637e-12, 1.950180295029469e-11, 3.525050390473794e-11, 8.384704736075221e-11, 2.0715496852619086e-10, 5.28013097654545e-10, 1.4579620440623164e-09, 4.086552089343359e-09, 1.073714378356256e-08], [2.635220375246661e-10, 3.7504804817345416e-10, 5.35921917954596e-10, 7.658886025385669e-10, 1.1017702722382339e-09, 1.598978324746092e-09, 2.361088449753801e-09, 3.5564129002851885e-09, 5.516033567409817e-09, 8.813911007293784e-09, 1.4551825525815909e-08, 2.4917888682973732e-08, 4.575360246922289e-08, 8.073043248225248e-08], [5.748306830533068e-10, 8.134248552504886e-10, 1.1534898036735797e-09, 1.6796532220642035e-09, 2.4232110762412162e-09, 3.575451129611551e-09, 5.265090932682348e-09, 7.998552931098857e-09, 1.2425463810639137e-08, 1.9856379089577825e-08, 3.239037350485918e-08, 5.3776979130198965e-08, 9.274143056813011e-08, 1.51691582435734e-07], [5.32095990046777e-08, 6.468715488261445e-08, 7.861066647629755e-08, 9.465569275612928e-08, 1.1551126349873542e-07, 1.4010330262603787e-07, 1.71148126365539e-07, 2.0960100363676126e-07, 2.5449832742607814e-07, 3.1157034648121584e-07, 3.822233755959581e-07, 4.7316379629680494e-07, 5.885482663448016e-07, 7.277768835980969e-07], [2.8547466945916256e-08, 4.9893485648544456e-08, 8.967079342947493e-08, 1.637938664977856e-07, 3.1237244674242604e-07, 5.542165360111762e-07], [3.407888415907223e-10, 5.511550660308728e-10, 9.580835014233458e-10, 1.6341959452326194e-09, 2.775841168034532e-09, 4.9088550169162914e-09, 8.305901300076357e-09, 1.4163481637519126e-08, 2.5187520832914423e-08, 4.3991286877154145e-08, 8.05752714203023e-08, 1.4129338567897554e-07, 2.4946476694098774e-07, 3.5667087539340003e-07], [1.659074322368781e-09, 2.466126081124287e-09, 3.74188002805198e-09, 5.852072881840087e-09, 8.65463145593992e-09, 1.2921259451292855e-08, 2.9450320321311452e-08, 4.200147141197874e-08, 6.426985051100065e-08, 9.602579148504375e-08, 1.519930962062821e-07, 2.2851329752743288e-07, 3.2954272775886917e-07], [3.4563829021116987e-09, 5.082105125620018e-09, 7.41620387323394e-09, 1.1079319461870796e-08, 1.6172352540477775e-08, 2.355499567618935e-08, 3.619184485437188e-08, 5.4456720577356066e-08, 8.471231827122949e-08, 1.2596645686258068e-07, 1.8812174107374346e-07, 2.676423476732914e-07], [2.350332972689273e-08, 3.183317881516601e-08, 4.3844629427081117e-08, 6.160863666448968e-08, 8.74991928911939e-08, 1.2454744960366249e-07, 1.7741808552851346e-07, 2.543748828520709e-07, 3.4530241121988325e-07]]\n"
     ]
    }
   ],
   "source": [
    "print (priceErrors)"
   ]
  },
  {
   "cell_type": "code",
   "execution_count": 1054,
   "metadata": {},
   "outputs": [
    {
     "data": {
      "text/plain": [
       "[5.32095990046777e-08,\n",
       " 6.468715488261445e-08,\n",
       " 7.861066647629755e-08,\n",
       " 9.465569275612928e-08,\n",
       " 1.1551126349873542e-07,\n",
       " 1.4010330262603787e-07,\n",
       " 1.71148126365539e-07,\n",
       " 2.0960100363676126e-07,\n",
       " 2.5449832742607814e-07,\n",
       " 3.1157034648121584e-07,\n",
       " 3.822233755959581e-07,\n",
       " 4.7316379629680494e-07,\n",
       " 5.885482663448016e-07,\n",
       " 7.277768835980969e-07]"
      ]
     },
     "execution_count": 1054,
     "metadata": {},
     "output_type": "execute_result"
    }
   ],
   "source": [
    "max(priceErrors)"
   ]
  },
  {
   "cell_type": "code",
   "execution_count": null,
   "metadata": {},
   "outputs": [],
   "source": []
  }
 ],
 "metadata": {
  "kernelspec": {
   "display_name": "Python 3",
   "language": "python",
   "name": "python3"
  },
  "language_info": {
   "codemirror_mode": {
    "name": "ipython",
    "version": 3
   },
   "file_extension": ".py",
   "mimetype": "text/x-python",
   "name": "python",
   "nbconvert_exporter": "python",
   "pygments_lexer": "ipython3",
   "version": "3.7.3"
  }
 },
 "nbformat": 4,
 "nbformat_minor": 2
}
