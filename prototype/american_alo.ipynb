{
 "cells": [
  {
   "cell_type": "code",
   "execution_count": 1,
   "metadata": {},
   "outputs": [],
   "source": [
    "from math import *\n",
    "import matplotlib\n",
    "import matplotlib.pyplot as plt\n",
    "import numpy\n",
    "import scipy.stats\n",
    "import scipy.integrate"
   ]
  },
  {
   "cell_type": "markdown",
   "metadata": {},
   "source": [
    "First, let us define the Gauss-Legendre integration method and run a few simple tests."
   ]
  },
  {
   "cell_type": "code",
   "execution_count": 2,
   "metadata": {},
   "outputs": [],
   "source": [
    "def GaussLegendreIntegration(func, lower, upper, degree):\n",
    "    a = .5 * (upper - lower)\n",
    "    b = .5 * (upper + lower)\n",
    "    points_and_weights = numpy.polynomial.legendre.leggauss(degree)\n",
    "    \n",
    "    result = 0.\n",
    "    for point, weight in zip(points_and_weights[0], points_and_weights[1]):\n",
    "        result += func(b + a * point) * weight\n",
    "        \n",
    "    return result*a"
   ]
  },
  {
   "cell_type": "code",
   "execution_count": 3,
   "metadata": {},
   "outputs": [
    {
     "name": "stdout",
     "output_type": "stream",
     "text": [
      "6.659891527149853e-10\n",
      "0.0\n",
      "4.440892098500626e-16\n"
     ]
    }
   ],
   "source": [
    "deg = 7\n",
    "print(GaussLegendreIntegration(lambda x : 1. / (1 + x**2), 0, 1, deg) - pi / 4.)\n",
    "print(GaussLegendreIntegration(lambda x : x, 0, 1, deg) - .5)\n",
    "print(GaussLegendreIntegration(numpy.exp, 0, 1, deg) - (exp(1) - 1.))"
   ]
  },
  {
   "cell_type": "markdown",
   "metadata": {},
   "source": [
    "Next, we will define the Chebyshev interpolation method and use it to recover an unknown function from values on a few pre specified points."
   ]
  },
  {
   "cell_type": "code",
   "execution_count": 4,
   "metadata": {},
   "outputs": [],
   "source": [
    "def ChebyshevInterpolationCoefficients(values):\n",
    "    size = len(values)\n",
    "    n = size - 1\n",
    "    multiplier = 2. / n\n",
    "    coefficients = [0.] * size\n",
    "    for i in range(size):\n",
    "        factor = 1.\n",
    "        if i is 0 or i is n:\n",
    "            factor = .5\n",
    "            \n",
    "        for j in range(size):\n",
    "            coefficients[j] += multiplier * factor * values[i] * cos(pi * i * j / n)\n",
    "            \n",
    "    return coefficients"
   ]
  },
  {
   "cell_type": "code",
   "execution_count": 5,
   "metadata": {},
   "outputs": [
    {
     "data": {
      "text/plain": [
       "[6.25, -1.9571067811865472, 0.24999999999999956, -0.5428932188134523, 0.25]"
      ]
     },
     "execution_count": 5,
     "metadata": {},
     "output_type": "execute_result"
    }
   ],
   "source": [
    "ChebyshevInterpolationCoefficients([1,2,3,4,6])"
   ]
  },
  {
   "cell_type": "code",
   "execution_count": 6,
   "metadata": {},
   "outputs": [],
   "source": [
    "def ChebyshevInterpolation(values, z):\n",
    "    coefficients = ChebyshevInterpolationCoefficients(values)\n",
    "    size = len(coefficients)\n",
    "    n = size - 1\n",
    "    \n",
    "    result = 0.\n",
    "    for i in range(size):\n",
    "        factor = 1.\n",
    "        if i is 0 or i is n:\n",
    "            factor = .5\n",
    "            \n",
    "        result += factor * coefficients[i] * cos(i * acos(z))\n",
    "        \n",
    "    return result"
   ]
  },
  {
   "cell_type": "code",
   "execution_count": 7,
   "metadata": {},
   "outputs": [
    {
     "data": {
      "text/plain": [
       "5.999999999999998"
      ]
     },
     "execution_count": 7,
     "metadata": {},
     "output_type": "execute_result"
    }
   ],
   "source": [
    "ChebyshevInterpolation([1,2,3,4,6],-1)"
   ]
  },
  {
   "cell_type": "code",
   "execution_count": 8,
   "metadata": {},
   "outputs": [],
   "source": [
    "def TestChebyshev(test_func, lower, upper, degree):\n",
    "    z = [0.] * degree\n",
    "    values = [0.] * degree\n",
    "    for i in range(degree):\n",
    "        z[i] = cos(pi * i / (degree-1))\n",
    "        values[i] = test_func(lower + (upper - lower) * .5 * (1. + z[i]))\n",
    "      \n",
    "    t = numpy.arange(lower, upper, 0.01)\n",
    "    s1 = [test_func(x) for x in t]\n",
    "    s2 = [ChebyshevInterpolation(values, \n",
    "                                 2. * (x - lower) / (upper - lower) - 1.) for x in t]\n",
    "    \n",
    "    fig, ax = plt.subplots()\n",
    "    ax.plot(t, s1)\n",
    "    ax.plot(t, s2)\n",
    "    plt.show()\n",
    "      \n",
    "    for i in range(degree):\n",
    "        diff = abs(values[i] - ChebyshevInterpolation(values,z[i]))\n",
    "        print(diff)"
   ]
  },
  {
   "cell_type": "code",
   "execution_count": 9,
   "metadata": {},
   "outputs": [
    {
     "data": {
      "image/png": "[encoded data removed]",
      "text/plain": [
       "<Figure size 432x288 with 1 Axes>"
      ]
     },
     "metadata": {
      "needs_background": "light"
     },
     "output_type": "display_data"
    },
    {
     "name": "stdout",
     "output_type": "stream",
     "text": [
      "2.220446049250313e-16\n",
      "2.220446049250313e-16\n",
      "1.1102230246251565e-16\n",
      "1.6653345369377348e-16\n",
      "1.0257883504761298e-16\n",
      "2.7755575615628914e-16\n",
      "1.1102230246251565e-16\n",
      "4.440892098500626e-16\n",
      "6.661338147750939e-16\n"
     ]
    }
   ],
   "source": [
    "test_func = lambda x : tan(x)\n",
    "TestChebyshev(test_func, -1., 1., 9)"
   ]
  },
  {
   "cell_type": "markdown",
   "metadata": {},
   "source": [
    "Now, define the ITM probabilities and construct the iteration functions."
   ]
  },
  {
   "cell_type": "code",
   "execution_count": 10,
   "metadata": {},
   "outputs": [],
   "source": [
    "def d(boundary, initial, final, vol, pm):\n",
    "    var = vol * sqrt(final - initial)\n",
    "    diff = boundary(initial) - boundary(final)\n",
    "    arg = diff / var + .5 * pm * var\n",
    "    \n",
    "    return arg"
   ]
  },
  {
   "cell_type": "code",
   "execution_count": 11,
   "metadata": {},
   "outputs": [],
   "source": [
    "def d_terminal(boundary, initial, maturity, moneyness, vol, pm):\n",
    "    var = vol * sqrt(maturity - initial)\n",
    "    diff = boundary(initial) - moneyness\n",
    "    arg = diff / var + .5 * pm * var\n",
    "    \n",
    "    return arg"
   ]
  },
  {
   "cell_type": "code",
   "execution_count": 12,
   "metadata": {},
   "outputs": [],
   "source": [
    "def numerator(boundary, \n",
    "              moneyness, \n",
    "              initial, \n",
    "              maturity, \n",
    "              vol, \n",
    "              discount, \n",
    "              discount_deriv, \n",
    "              callPut,\n",
    "              degree):\n",
    "    result = scipy.stats.norm.cdf(-callPut * d_terminal(boundary,\n",
    "                                                        initial, \n",
    "                                                        maturity, \n",
    "                                                        moneyness, \n",
    "                                                        vol, \n",
    "                                                        -1))\n",
    "    \n",
    "    integrand = lambda x: scipy.stats.norm.cdf(-callPut * d(boundary, initial, x, vol, -1)) \\\n",
    "                                           * discount_deriv(x)\n",
    "    result -= GaussLegendreIntegration(integrand,\n",
    "                                       initial,\n",
    "                                       maturity,\n",
    "                                       degree) / discount(maturity)\n",
    "                    \n",
    "    return result                              "
   ]
  },
  {
   "cell_type": "code",
   "execution_count": 13,
   "metadata": {},
   "outputs": [],
   "source": [
    "def denominator(boundary, \n",
    "                moneyness, \n",
    "                initial, \n",
    "                maturity, \n",
    "                vol, \n",
    "                discounted_forward, \n",
    "                discounted_forward_deriv, \n",
    "                callPut,\n",
    "                degree):\n",
    "    result = scipy.stats.norm.cdf(-callPut * d_terminal(boundary,\n",
    "                                                        initial, \n",
    "                                                        maturity, \n",
    "                                                        moneyness, \n",
    "                                                        vol, \n",
    "                                                        1))\n",
    "    \n",
    "    integrand = lambda x: scipy.stats.norm.cdf(-callPut * d(boundary, initial, x, vol, 1)) \\\n",
    "                                          * discounted_forward_deriv(x)\n",
    "    result -= GaussLegendreIntegration(integrand,\n",
    "                                       initial,\n",
    "                                       maturity,\n",
    "                                       degree) / discounted_forward(maturity)\n",
    "                    \n",
    "    return result                              "
   ]
  },
  {
   "cell_type": "markdown",
   "metadata": {},
   "source": [
    "From an initial flat exercise boundary, run just one iteration to check the code."
   ]
  },
  {
   "cell_type": "code",
   "execution_count": 30,
   "metadata": {},
   "outputs": [
    {
     "name": "stdout",
     "output_type": "stream",
     "text": [
      "0.48454713141323047\n",
      "0.5252145144244474\n"
     ]
    }
   ],
   "source": [
    "S = 45\n",
    "K = 45\n",
    "t = .1\n",
    "T = .5\n",
    "vol = .2\n",
    "\n",
    "r = .05\n",
    "q = .0\n",
    "\n",
    "callPut = -1\n",
    "degree = 11\n",
    "\n",
    "discount = lambda x: exp(-r * x)\n",
    "forward = lambda x: S * exp((r-q)*x)\n",
    "discounted_forward = lambda x: discount(x) * forward(x)\n",
    "\n",
    "discount_deriv = lambda x: -r * discount(x)\n",
    "discounted_forward_deriv = lambda x: -q * discounted_forward(x)\n",
    "\n",
    "moneyness = log(K/forward(T))\n",
    "boundary = lambda x: moneyness\n",
    "\n",
    "print(numerator(boundary, \n",
    "          moneyness, \n",
    "          t, \n",
    "          T, \n",
    "          vol, \n",
    "          discount, \n",
    "          discount_deriv, \n",
    "          callPut, \n",
    "          degree))\n",
    "print(denominator(boundary, \n",
    "            moneyness, \n",
    "            t, \n",
    "            T, \n",
    "            vol, \n",
    "            discounted_forward, \n",
    "            discounted_forward_deriv, \n",
    "            callPut, \n",
    "            degree))"
   ]
  },
  {
   "cell_type": "code",
   "execution_count": 31,
   "metadata": {},
   "outputs": [
    {
     "data": {
      "image/png": "[encoded data removed]",
      "text/plain": [
       "<Figure size 432x288 with 1 Axes>"
      ]
     },
     "metadata": {
      "needs_background": "light"
     },
     "output_type": "display_data"
    }
   ],
   "source": [
    "boundary_iter = lambda x: moneyness                \\\n",
    "                        + log(numerator(boundary, \n",
    "                                        moneyness, \n",
    "                                        x, \n",
    "                                        T, \n",
    "                                        vol, \n",
    "                                        discount, \n",
    "                                        discount_deriv, \n",
    "                                        callPut,\n",
    "                                        degree)    \\\n",
    "                             / denominator(boundary, \n",
    "                                           moneyness, \n",
    "                                           x, \n",
    "                                           T, \n",
    "                                           vol, \n",
    "                                           discounted_forward, \n",
    "                                           discounted_forward_deriv, \n",
    "                                           callPut,\n",
    "                                           degree))\n",
    "\n",
    "t = numpy.arange(0, T, 0.001)\n",
    "s1 = [forward(x) * exp(boundary(x)) for x in t]\n",
    "s2 = [forward(x) * exp(boundary_iter(x)) for x in t]\n",
    "\n",
    "fig, ax = plt.subplots()\n",
    "ax.plot(t, s1)\n",
    "ax.plot(t, s2)\n",
    "plt.show()"
   ]
  },
  {
   "cell_type": "markdown",
   "metadata": {},
   "source": [
    "In the above single iteration example, we have calculated the early exercise boundary values on a lot of points and then interpolate to form the updated boundary. We will speed up the process by"
   ]
  },
  {
   "cell_type": "code",
   "execution_count": 32,
   "metadata": {},
   "outputs": [],
   "source": [
    "def SampleValues(boundary,\n",
    "                 maturity,\n",
    "                 number_interpolation_points):\n",
    "    x = [cos(i*pi/(number_interpolation_points-1)) for i in range(number_interpolation_points)]\n",
    "    return x, [boundary(.5*maturity*(1+y)) for y in x]"
   ]
  },
  {
   "cell_type": "code",
   "execution_count": 33,
   "metadata": {},
   "outputs": [
    {
     "data": {
      "text/plain": [
       "([1.0,\n",
       "  0.9659258262890683,\n",
       "  0.8660254037844387,\n",
       "  0.7071067811865476,\n",
       "  0.5000000000000001,\n",
       "  0.25881904510252074,\n",
       "  6.123233995736766e-17,\n",
       "  -0.25881904510252063,\n",
       "  -0.4999999999999998,\n",
       "  -0.7071067811865475,\n",
       "  -0.8660254037844387,\n",
       "  -0.9659258262890682,\n",
       "  -1.0],\n",
       " [-0.025000000000000053,\n",
       "  -0.039301380660409314,\n",
       "  -0.05252209937257955,\n",
       "  -0.06449458696908934,\n",
       "  -0.07511184462059196,\n",
       "  -0.0843229601749266,\n",
       "  -0.09212523667260819,\n",
       "  -0.09855363076851875,\n",
       "  -0.10366840970500632,\n",
       "  -0.10754208052968754,\n",
       "  -0.11024670720549544,\n",
       "  -0.11184270060873536,\n",
       "  -0.11237004290610435])"
      ]
     },
     "execution_count": 33,
     "metadata": {},
     "output_type": "execute_result"
    }
   ],
   "source": [
    "points, values = SampleValues(boundary, T, 13)\n",
    "points, [values[0]] + [boundary_iter(.5*T*(1+x)) for x in points[1:]]"
   ]
  },
  {
   "cell_type": "code",
   "execution_count": 34,
   "metadata": {},
   "outputs": [],
   "source": [
    "def EarlyExerciseBoundaryIteration(values,\n",
    "                                   points,\n",
    "                                   moneyness,\n",
    "                                   maturity,\n",
    "                                   vol,\n",
    "                                   callPut,\n",
    "                                   discount,\n",
    "                                   discount_deriv,\n",
    "                                   discounted_forward,\n",
    "                                   discounted_forward_deriv,\n",
    "                                   number_integration_points):\n",
    "    boundary_interp = lambda x: ChebyshevInterpolation(values, 2.*x/maturity-1.)\n",
    "    boundary_iter = lambda x: moneyness                \\\n",
    "                            + log(numerator(boundary_interp, \n",
    "                                            moneyness, \n",
    "                                            x, \n",
    "                                            maturity, \n",
    "                                            vol, \n",
    "                                            discount, \n",
    "                                            discount_deriv, \n",
    "                                            callPut,\n",
    "                                            number_integration_points))    \\\n",
    "                             - log(denominator(boundary_interp, \n",
    "                                           moneyness, \n",
    "                                           x, \n",
    "                                           maturity, \n",
    "                                           vol, \n",
    "                                           discounted_forward, \n",
    "                                           discounted_forward_deriv, \n",
    "                                           callPut,\n",
    "                                           number_integration_points))\n",
    "    \n",
    "    return [values[0]] + [boundary_iter(.5*maturity*(1+x)) for x in points[1:]]"
   ]
  },
  {
   "cell_type": "code",
   "execution_count": 35,
   "metadata": {},
   "outputs": [],
   "source": [
    "def CalculateEarlyExerciseBoundaryByIteration(initial_boundary,\n",
    "                                              moneyness,\n",
    "                                              maturity,\n",
    "                                              vol,\n",
    "                                              callPut,\n",
    "                                              discount,\n",
    "                                              discount_deriv,\n",
    "                                              discounted_forward,\n",
    "                                              discounted_forward_deriv,\n",
    "                                              number_integration_points,\n",
    "                                              number_interpolation_points,\n",
    "                                              number_iterations):\n",
    "    points, values = SampleValues(initial_boundary, maturity, number_interpolation_points)\n",
    "    new_values = [values]\n",
    "    for i in range(number_iterations):\n",
    "        new_values.append(EarlyExerciseBoundaryIteration(new_values[i],\n",
    "                                                         points,\n",
    "                                                         moneyness,\n",
    "                                                         maturity,\n",
    "                                                         vol,\n",
    "                                                         callPut,\n",
    "                                                         discount,\n",
    "                                                         discount_deriv,\n",
    "                                                         discounted_forward,\n",
    "                                                         discounted_forward_deriv,\n",
    "                                                         number_integration_points))\n",
    "        \n",
    "    return new_values"
   ]
  },
  {
   "cell_type": "code",
   "execution_count": 37,
   "metadata": {},
   "outputs": [
    {
     "data": {
      "image/png": "[encoded data removed]",
      "text/plain": [
       "<Figure size 432x288 with 1 Axes>"
      ]
     },
     "metadata": {
      "needs_background": "light"
     },
     "output_type": "display_data"
    }
   ],
   "source": [
    "iteration_values = CalculateEarlyExerciseBoundaryByIteration(boundary,\n",
    "                                          moneyness,\n",
    "                                          T,\n",
    "                                          vol,\n",
    "                                          callPut,\n",
    "                                          discount,\n",
    "                                          discount_deriv,\n",
    "                                          discounted_forward,\n",
    "                                          discounted_forward_deriv,\n",
    "                                          13,\n",
    "                                          35,\n",
    "                                          8)\n",
    "    \n",
    "t = numpy.arange(0, T, 0.01)\n",
    "fig, ax = plt.subplots()\n",
    "for iter_values in iteration_values[-3:-1]:\n",
    "    boundary_interp = lambda x: ChebyshevInterpolation(iter_values, 2.*x/T-1.)\n",
    "    s = [discounted_forward(x) / discount(x) * exp(boundary_interp(x)) for x in t]\n",
    "    ax.plot(t, s)\n",
    "\n",
    "plt.show()"
   ]
  },
  {
   "cell_type": "code",
   "execution_count": 23,
   "metadata": {},
   "outputs": [],
   "source": [
    "def AmericanOptionPriceFromEarlyExerciseBoundary(boundary):\n",
    "    pass"
   ]
  },
  {
   "cell_type": "code",
   "execution_count": null,
   "metadata": {},
   "outputs": [],
   "source": []
  }
 ],
 "metadata": {
  "kernelspec": {
   "display_name": "Python 3",
   "language": "python",
   "name": "python3"
  },
  "language_info": {
   "codemirror_mode": {
    "name": "ipython",
    "version": 3
   },
   "file_extension": ".py",
   "mimetype": "text/x-python",
   "name": "python",
   "nbconvert_exporter": "python",
   "pygments_lexer": "ipython3",
   "version": "3.7.3"
  }
 },
 "nbformat": 4,
 "nbformat_minor": 2
}
