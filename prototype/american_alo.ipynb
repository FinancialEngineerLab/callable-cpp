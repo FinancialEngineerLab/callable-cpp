{
 "cells": [
  {
   "cell_type": "code",
   "execution_count": 3,
   "metadata": {},
   "outputs": [],
   "source": [
    "from math import *\n",
    "import matplotlib\n",
    "import matplotlib.pyplot as plt\n",
    "import numpy\n",
    "import scipy.stats\n",
    "import scipy.integrate"
   ]
  },
  {
   "cell_type": "markdown",
   "metadata": {},
   "source": [
    "First, let us define the Gauss-Legendre integration method and run a few simple tests."
   ]
  },
  {
   "cell_type": "code",
   "execution_count": 4,
   "metadata": {},
   "outputs": [],
   "source": [
    "def GaussLegendreIntegration(func, lower, upper, degree):\n",
    "    a = .5 * (upper - lower)\n",
    "    b = .5 * (upper + lower)\n",
    "    points_and_weights = numpy.polynomial.legendre.leggauss(degree)\n",
    "    \n",
    "    result = 0.\n",
    "    for point, weight in zip(points_and_weights[0], points_and_weights[1]):\n",
    "        result += func(b + a * point) * weight\n",
    "        \n",
    "    return result*a"
   ]
  },
  {
   "cell_type": "code",
   "execution_count": 5,
   "metadata": {
    "tags": []
   },
   "outputs": [
    {
     "output_type": "stream",
     "name": "stdout",
     "text": "6.659891527149853e-10\n0.0\n4.440892098500626e-16\n"
    }
   ],
   "source": [
    "deg = 7\n",
    "print(GaussLegendreIntegration(lambda x : 1. / (1 + x**2), 0, 1, deg) - pi / 4.)\n",
    "print(GaussLegendreIntegration(lambda x : x, 0, 1, deg) - .5)\n",
    "print(GaussLegendreIntegration(numpy.exp, 0, 1, deg) - (exp(1) - 1.))"
   ]
  },
  {
   "cell_type": "markdown",
   "metadata": {},
   "source": [
    "Next, we will define the Chebyshev interpolation method and use it to recover an unknown function from values on a few pre specified points."
   ]
  },
  {
   "cell_type": "code",
   "execution_count": 6,
   "metadata": {},
   "outputs": [],
   "source": [
    "def ChebyshevInterpolationCoefficients(values):\n",
    "    size = len(values)\n",
    "    n = size - 1\n",
    "    multiplier = 2. / n\n",
    "    coefficients = [0.] * size\n",
    "    for i in range(size):\n",
    "        factor = 1.\n",
    "        if i is 0 or i is n:\n",
    "            factor = .5\n",
    "            \n",
    "        for j in range(size):\n",
    "            coefficients[j] += multiplier * factor * values[i] * cos(pi * i * j / n)\n",
    "            \n",
    "    return coefficients"
   ]
  },
  {
   "cell_type": "code",
   "execution_count": 7,
   "metadata": {},
   "outputs": [
    {
     "output_type": "execute_result",
     "data": {
      "text/plain": "[6.25, -1.9571067811865472, 0.24999999999999956, -0.5428932188134523, 0.25]"
     },
     "metadata": {},
     "execution_count": 7
    }
   ],
   "source": [
    "ChebyshevInterpolationCoefficients([1,2,3,4,6])"
   ]
  },
  {
   "cell_type": "code",
   "execution_count": 8,
   "metadata": {},
   "outputs": [],
   "source": [
    "def ChebyshevInterpolation(values, z):\n",
    "    coefficients = ChebyshevInterpolationCoefficients(values)\n",
    "    size = len(coefficients)\n",
    "    n = size - 1\n",
    "    \n",
    "    result = 0.\n",
    "    for i in range(size):\n",
    "        factor = 1.\n",
    "        if i is 0 or i is n:\n",
    "            factor = .5\n",
    "            \n",
    "        result += factor * coefficients[i] * cos(i * acos(z))\n",
    "        \n",
    "    return result"
   ]
  },
  {
   "cell_type": "code",
   "execution_count": 9,
   "metadata": {},
   "outputs": [
    {
     "output_type": "execute_result",
     "data": {
      "text/plain": "5.999999999999998"
     },
     "metadata": {},
     "execution_count": 9
    }
   ],
   "source": [
    "ChebyshevInterpolation([1,2,3,4,6],-1)"
   ]
  },
  {
   "cell_type": "code",
   "execution_count": 10,
   "metadata": {},
   "outputs": [],
   "source": [
    "def TestChebyshev(test_func, lower, upper, degree):\n",
    "    z = [0.] * degree\n",
    "    values = [0.] * degree\n",
    "    for i in range(degree):\n",
    "        z[i] = cos(pi * i / (degree-1))\n",
    "        values[i] = test_func(lower + (upper - lower) * .5 * (1. + z[i]))\n",
    "      \n",
    "    t = numpy.arange(lower, upper, 0.01)\n",
    "    s1 = [test_func(x) for x in t]\n",
    "    s2 = [ChebyshevInterpolation(values, \n",
    "                                 2. * (x - lower) / (upper - lower) - 1.) for x in t]\n",
    "    \n",
    "    fig, ax = plt.subplots()\n",
    "    ax.plot(t, s1)\n",
    "    ax.plot(t, s2)\n",
    "    plt.show()\n",
    "      \n",
    "    for i in range(degree):\n",
    "        diff = abs(values[i] - ChebyshevInterpolation(values,z[i]))\n",
    "        print(diff)"
   ]
  },
  {
   "cell_type": "code",
   "execution_count": 11,
   "metadata": {
    "tags": []
   },
   "outputs": [
    {
     "output_type": "display_data",
     "data": {
      "text/plain": "<Figure size 432x288 with 1 Axes>",
      "image/svg+xml": "<?xml version=\"1.0\" encoding=\"utf-8\" standalone=\"no\"?>\r\n<!DOCTYPE svg PUBLIC \"-//W3C//DTD SVG 1.1//EN\"\r\n  \"http://www.w3.org/Graphics/SVG/1.1/DTD/svg11.dtd\">\r\n<!-- Created with matplotlib (https://matplotlib.org/) -->\r\n<svg height=\"252.018125pt\" version=\"1.1\" viewBox=\"0 0 383.982812 252.018125\" width=\"383.982812pt\" xmlns=\"http://www.w3.org/2000/svg\" xmlns:xlink=\"http://www.w3.org/1999/xlink\">\r\n <defs>\r\n  <style type=\"text/css\">\r\n*{stroke-linecap:butt;stroke-linejoin:round;}\r\n  </style>\r\n </defs>\r\n <g id=\"figure_1\">\r\n  <g id=\"patch_1\">\r\n   <path d=\"M -0 252.018125 \r\nL 383.982812 252.018125 \r\nL 383.982812 0 \r\nL -0 0 \r\nz\r\n\" style=\"fill:none;\"/>\r\n  </g>\r\n  <g id=\"axes_1\">\r\n   <g id=\"patch_2\">\r\n    <path d=\"M 38.482813 228.14 \r\nL 373.282813 228.14 \r\nL 373.282813 10.7 \r\nL 38.482813 10.7 \r\nz\r\n\" style=\"fill:#ffffff;\"/>\r\n   </g>\r\n   <g id=\"matplotlib.axis_1\">\r\n    <g id=\"xtick_1\">\r\n     <g id=\"line2d_1\">\r\n      <defs>\r\n       <path d=\"M 0 0 \r\nL 0 3.5 \r\n\" id=\"mc6e2da8a9f\" style=\"stroke:#000000;stroke-width:0.8;\"/>\r\n      </defs>\r\n      <g>\r\n       <use style=\"stroke:#000000;stroke-width:0.8;\" x=\"53.700994\" xlink:href=\"#mc6e2da8a9f\" y=\"228.14\"/>\r\n      </g>\r\n     </g>\r\n     <g id=\"text_1\">\r\n      <!-- −1.00 -->\r\n      <defs>\r\n       <path d=\"M 10.59375 35.5 \r\nL 73.1875 35.5 \r\nL 73.1875 27.203125 \r\nL 10.59375 27.203125 \r\nz\r\n\" id=\"DejaVuSans-8722\"/>\r\n       <path d=\"M 12.40625 8.296875 \r\nL 28.515625 8.296875 \r\nL 28.515625 63.921875 \r\nL 10.984375 60.40625 \r\nL 10.984375 69.390625 \r\nL 28.421875 72.90625 \r\nL 38.28125 72.90625 \r\nL 38.28125 8.296875 \r\nL 54.390625 8.296875 \r\nL 54.390625 0 \r\nL 12.40625 0 \r\nz\r\n\" id=\"DejaVuSans-49\"/>\r\n       <path d=\"M 10.6875 12.40625 \r\nL 21 12.40625 \r\nL 21 0 \r\nL 10.6875 0 \r\nz\r\n\" id=\"DejaVuSans-46\"/>\r\n       <path d=\"M 31.78125 66.40625 \r\nQ 24.171875 66.40625 20.328125 58.90625 \r\nQ 16.5 51.421875 16.5 36.375 \r\nQ 16.5 21.390625 20.328125 13.890625 \r\nQ 24.171875 6.390625 31.78125 6.390625 \r\nQ 39.453125 6.390625 43.28125 13.890625 \r\nQ 47.125 21.390625 47.125 36.375 \r\nQ 47.125 51.421875 43.28125 58.90625 \r\nQ 39.453125 66.40625 31.78125 66.40625 \r\nz\r\nM 31.78125 74.21875 \r\nQ 44.046875 74.21875 50.515625 64.515625 \r\nQ 56.984375 54.828125 56.984375 36.375 \r\nQ 56.984375 17.96875 50.515625 8.265625 \r\nQ 44.046875 -1.421875 31.78125 -1.421875 \r\nQ 19.53125 -1.421875 13.0625 8.265625 \r\nQ 6.59375 17.96875 6.59375 36.375 \r\nQ 6.59375 54.828125 13.0625 64.515625 \r\nQ 19.53125 74.21875 31.78125 74.21875 \r\nz\r\n\" id=\"DejaVuSans-48\"/>\r\n      </defs>\r\n      <g transform=\"translate(38.378338 242.738437)scale(0.1 -0.1)\">\r\n       <use xlink:href=\"#DejaVuSans-8722\"/>\r\n       <use x=\"83.789062\" xlink:href=\"#DejaVuSans-49\"/>\r\n       <use x=\"147.412109\" xlink:href=\"#DejaVuSans-46\"/>\r\n       <use x=\"179.199219\" xlink:href=\"#DejaVuSans-48\"/>\r\n       <use x=\"242.822266\" xlink:href=\"#DejaVuSans-48\"/>\r\n      </g>\r\n     </g>\r\n    </g>\r\n    <g id=\"xtick_2\">\r\n     <g id=\"line2d_2\">\r\n      <g>\r\n       <use style=\"stroke:#000000;stroke-width:0.8;\" x=\"91.937632\" xlink:href=\"#mc6e2da8a9f\" y=\"228.14\"/>\r\n      </g>\r\n     </g>\r\n     <g id=\"text_2\">\r\n      <!-- −0.75 -->\r\n      <defs>\r\n       <path d=\"M 8.203125 72.90625 \r\nL 55.078125 72.90625 \r\nL 55.078125 68.703125 \r\nL 28.609375 0 \r\nL 18.3125 0 \r\nL 43.21875 64.59375 \r\nL 8.203125 64.59375 \r\nz\r\n\" id=\"DejaVuSans-55\"/>\r\n       <path d=\"M 10.796875 72.90625 \r\nL 49.515625 72.90625 \r\nL 49.515625 64.59375 \r\nL 19.828125 64.59375 \r\nL 19.828125 46.734375 \r\nQ 21.96875 47.46875 24.109375 47.828125 \r\nQ 26.265625 48.1875 28.421875 48.1875 \r\nQ 40.625 48.1875 47.75 41.5 \r\nQ 54.890625 34.8125 54.890625 23.390625 \r\nQ 54.890625 11.625 47.5625 5.09375 \r\nQ 40.234375 -1.421875 26.90625 -1.421875 \r\nQ 22.3125 -1.421875 17.546875 -0.640625 \r\nQ 12.796875 0.140625 7.71875 1.703125 \r\nL 7.71875 11.625 \r\nQ 12.109375 9.234375 16.796875 8.0625 \r\nQ 21.484375 6.890625 26.703125 6.890625 \r\nQ 35.15625 6.890625 40.078125 11.328125 \r\nQ 45.015625 15.765625 45.015625 23.390625 \r\nQ 45.015625 31 40.078125 35.4375 \r\nQ 35.15625 39.890625 26.703125 39.890625 \r\nQ 22.75 39.890625 18.8125 39.015625 \r\nQ 14.890625 38.140625 10.796875 36.28125 \r\nz\r\n\" id=\"DejaVuSans-53\"/>\r\n      </defs>\r\n      <g transform=\"translate(76.614976 242.738437)scale(0.1 -0.1)\">\r\n       <use xlink:href=\"#DejaVuSans-8722\"/>\r\n       <use x=\"83.789062\" xlink:href=\"#DejaVuSans-48\"/>\r\n       <use x=\"147.412109\" xlink:href=\"#DejaVuSans-46\"/>\r\n       <use x=\"179.199219\" xlink:href=\"#DejaVuSans-55\"/>\r\n       <use x=\"242.822266\" xlink:href=\"#DejaVuSans-53\"/>\r\n      </g>\r\n     </g>\r\n    </g>\r\n    <g id=\"xtick_3\">\r\n     <g id=\"line2d_3\">\r\n      <g>\r\n       <use style=\"stroke:#000000;stroke-width:0.8;\" x=\"130.17427\" xlink:href=\"#mc6e2da8a9f\" y=\"228.14\"/>\r\n      </g>\r\n     </g>\r\n     <g id=\"text_3\">\r\n      <!-- −0.50 -->\r\n      <g transform=\"translate(114.851614 242.738437)scale(0.1 -0.1)\">\r\n       <use xlink:href=\"#DejaVuSans-8722\"/>\r\n       <use x=\"83.789062\" xlink:href=\"#DejaVuSans-48\"/>\r\n       <use x=\"147.412109\" xlink:href=\"#DejaVuSans-46\"/>\r\n       <use x=\"179.199219\" xlink:href=\"#DejaVuSans-53\"/>\r\n       <use x=\"242.822266\" xlink:href=\"#DejaVuSans-48\"/>\r\n      </g>\r\n     </g>\r\n    </g>\r\n    <g id=\"xtick_4\">\r\n     <g id=\"line2d_4\">\r\n      <g>\r\n       <use style=\"stroke:#000000;stroke-width:0.8;\" x=\"168.410908\" xlink:href=\"#mc6e2da8a9f\" y=\"228.14\"/>\r\n      </g>\r\n     </g>\r\n     <g id=\"text_4\">\r\n      <!-- −0.25 -->\r\n      <defs>\r\n       <path d=\"M 19.1875 8.296875 \r\nL 53.609375 8.296875 \r\nL 53.609375 0 \r\nL 7.328125 0 \r\nL 7.328125 8.296875 \r\nQ 12.9375 14.109375 22.625 23.890625 \r\nQ 32.328125 33.6875 34.8125 36.53125 \r\nQ 39.546875 41.84375 41.421875 45.53125 \r\nQ 43.3125 49.21875 43.3125 52.78125 \r\nQ 43.3125 58.59375 39.234375 62.25 \r\nQ 35.15625 65.921875 28.609375 65.921875 \r\nQ 23.96875 65.921875 18.8125 64.3125 \r\nQ 13.671875 62.703125 7.8125 59.421875 \r\nL 7.8125 69.390625 \r\nQ 13.765625 71.78125 18.9375 73 \r\nQ 24.125 74.21875 28.421875 74.21875 \r\nQ 39.75 74.21875 46.484375 68.546875 \r\nQ 53.21875 62.890625 53.21875 53.421875 \r\nQ 53.21875 48.921875 51.53125 44.890625 \r\nQ 49.859375 40.875 45.40625 35.40625 \r\nQ 44.1875 33.984375 37.640625 27.21875 \r\nQ 31.109375 20.453125 19.1875 8.296875 \r\nz\r\n\" id=\"DejaVuSans-50\"/>\r\n      </defs>\r\n      <g transform=\"translate(153.088251 242.738437)scale(0.1 -0.1)\">\r\n       <use xlink:href=\"#DejaVuSans-8722\"/>\r\n       <use x=\"83.789062\" xlink:href=\"#DejaVuSans-48\"/>\r\n       <use x=\"147.412109\" xlink:href=\"#DejaVuSans-46\"/>\r\n       <use x=\"179.199219\" xlink:href=\"#DejaVuSans-50\"/>\r\n       <use x=\"242.822266\" xlink:href=\"#DejaVuSans-53\"/>\r\n      </g>\r\n     </g>\r\n    </g>\r\n    <g id=\"xtick_5\">\r\n     <g id=\"line2d_5\">\r\n      <g>\r\n       <use style=\"stroke:#000000;stroke-width:0.8;\" x=\"206.647545\" xlink:href=\"#mc6e2da8a9f\" y=\"228.14\"/>\r\n      </g>\r\n     </g>\r\n     <g id=\"text_5\">\r\n      <!-- 0.00 -->\r\n      <g transform=\"translate(195.514733 242.738437)scale(0.1 -0.1)\">\r\n       <use xlink:href=\"#DejaVuSans-48\"/>\r\n       <use x=\"63.623047\" xlink:href=\"#DejaVuSans-46\"/>\r\n       <use x=\"95.410156\" xlink:href=\"#DejaVuSans-48\"/>\r\n       <use x=\"159.033203\" xlink:href=\"#DejaVuSans-48\"/>\r\n      </g>\r\n     </g>\r\n    </g>\r\n    <g id=\"xtick_6\">\r\n     <g id=\"line2d_6\">\r\n      <g>\r\n       <use style=\"stroke:#000000;stroke-width:0.8;\" x=\"244.884183\" xlink:href=\"#mc6e2da8a9f\" y=\"228.14\"/>\r\n      </g>\r\n     </g>\r\n     <g id=\"text_6\">\r\n      <!-- 0.25 -->\r\n      <g transform=\"translate(233.75137 242.738437)scale(0.1 -0.1)\">\r\n       <use xlink:href=\"#DejaVuSans-48\"/>\r\n       <use x=\"63.623047\" xlink:href=\"#DejaVuSans-46\"/>\r\n       <use x=\"95.410156\" xlink:href=\"#DejaVuSans-50\"/>\r\n       <use x=\"159.033203\" xlink:href=\"#DejaVuSans-53\"/>\r\n      </g>\r\n     </g>\r\n    </g>\r\n    <g id=\"xtick_7\">\r\n     <g id=\"line2d_7\">\r\n      <g>\r\n       <use style=\"stroke:#000000;stroke-width:0.8;\" x=\"283.120821\" xlink:href=\"#mc6e2da8a9f\" y=\"228.14\"/>\r\n      </g>\r\n     </g>\r\n     <g id=\"text_7\">\r\n      <!-- 0.50 -->\r\n      <g transform=\"translate(271.988008 242.738437)scale(0.1 -0.1)\">\r\n       <use xlink:href=\"#DejaVuSans-48\"/>\r\n       <use x=\"63.623047\" xlink:href=\"#DejaVuSans-46\"/>\r\n       <use x=\"95.410156\" xlink:href=\"#DejaVuSans-53\"/>\r\n       <use x=\"159.033203\" xlink:href=\"#DejaVuSans-48\"/>\r\n      </g>\r\n     </g>\r\n    </g>\r\n    <g id=\"xtick_8\">\r\n     <g id=\"line2d_8\">\r\n      <g>\r\n       <use style=\"stroke:#000000;stroke-width:0.8;\" x=\"321.357458\" xlink:href=\"#mc6e2da8a9f\" y=\"228.14\"/>\r\n      </g>\r\n     </g>\r\n     <g id=\"text_8\">\r\n      <!-- 0.75 -->\r\n      <g transform=\"translate(310.224646 242.738437)scale(0.1 -0.1)\">\r\n       <use xlink:href=\"#DejaVuSans-48\"/>\r\n       <use x=\"63.623047\" xlink:href=\"#DejaVuSans-46\"/>\r\n       <use x=\"95.410156\" xlink:href=\"#DejaVuSans-55\"/>\r\n       <use x=\"159.033203\" xlink:href=\"#DejaVuSans-53\"/>\r\n      </g>\r\n     </g>\r\n    </g>\r\n    <g id=\"xtick_9\">\r\n     <g id=\"line2d_9\">\r\n      <g>\r\n       <use style=\"stroke:#000000;stroke-width:0.8;\" x=\"359.594096\" xlink:href=\"#mc6e2da8a9f\" y=\"228.14\"/>\r\n      </g>\r\n     </g>\r\n     <g id=\"text_9\">\r\n      <!-- 1.00 -->\r\n      <g transform=\"translate(348.461284 242.738437)scale(0.1 -0.1)\">\r\n       <use xlink:href=\"#DejaVuSans-49\"/>\r\n       <use x=\"63.623047\" xlink:href=\"#DejaVuSans-46\"/>\r\n       <use x=\"95.410156\" xlink:href=\"#DejaVuSans-48\"/>\r\n       <use x=\"159.033203\" xlink:href=\"#DejaVuSans-48\"/>\r\n      </g>\r\n     </g>\r\n    </g>\r\n   </g>\r\n   <g id=\"matplotlib.axis_2\">\r\n    <g id=\"ytick_1\">\r\n     <g id=\"line2d_10\">\r\n      <defs>\r\n       <path d=\"M 0 0 \r\nL -3.5 0 \r\n\" id=\"m48bda22edf\" style=\"stroke:#000000;stroke-width:0.8;\"/>\r\n      </defs>\r\n      <g>\r\n       <use style=\"stroke:#000000;stroke-width:0.8;\" x=\"38.482813\" xlink:href=\"#m48bda22edf\" y=\"214.573412\"/>\r\n      </g>\r\n     </g>\r\n     <g id=\"text_10\">\r\n      <!-- −1.5 -->\r\n      <g transform=\"translate(7.2 218.372631)scale(0.1 -0.1)\">\r\n       <use xlink:href=\"#DejaVuSans-8722\"/>\r\n       <use x=\"83.789062\" xlink:href=\"#DejaVuSans-49\"/>\r\n       <use x=\"147.412109\" xlink:href=\"#DejaVuSans-46\"/>\r\n       <use x=\"179.199219\" xlink:href=\"#DejaVuSans-53\"/>\r\n      </g>\r\n     </g>\r\n    </g>\r\n    <g id=\"ytick_2\">\r\n     <g id=\"line2d_11\">\r\n      <g>\r\n       <use style=\"stroke:#000000;stroke-width:0.8;\" x=\"38.482813\" xlink:href=\"#m48bda22edf\" y=\"182.49627\"/>\r\n      </g>\r\n     </g>\r\n     <g id=\"text_11\">\r\n      <!-- −1.0 -->\r\n      <g transform=\"translate(7.2 186.295489)scale(0.1 -0.1)\">\r\n       <use xlink:href=\"#DejaVuSans-8722\"/>\r\n       <use x=\"83.789062\" xlink:href=\"#DejaVuSans-49\"/>\r\n       <use x=\"147.412109\" xlink:href=\"#DejaVuSans-46\"/>\r\n       <use x=\"179.199219\" xlink:href=\"#DejaVuSans-48\"/>\r\n      </g>\r\n     </g>\r\n    </g>\r\n    <g id=\"ytick_3\">\r\n     <g id=\"line2d_12\">\r\n      <g>\r\n       <use style=\"stroke:#000000;stroke-width:0.8;\" x=\"38.482813\" xlink:href=\"#m48bda22edf\" y=\"150.419129\"/>\r\n      </g>\r\n     </g>\r\n     <g id=\"text_12\">\r\n      <!-- −0.5 -->\r\n      <g transform=\"translate(7.2 154.218347)scale(0.1 -0.1)\">\r\n       <use xlink:href=\"#DejaVuSans-8722\"/>\r\n       <use x=\"83.789062\" xlink:href=\"#DejaVuSans-48\"/>\r\n       <use x=\"147.412109\" xlink:href=\"#DejaVuSans-46\"/>\r\n       <use x=\"179.199219\" xlink:href=\"#DejaVuSans-53\"/>\r\n      </g>\r\n     </g>\r\n    </g>\r\n    <g id=\"ytick_4\">\r\n     <g id=\"line2d_13\">\r\n      <g>\r\n       <use style=\"stroke:#000000;stroke-width:0.8;\" x=\"38.482813\" xlink:href=\"#m48bda22edf\" y=\"118.341987\"/>\r\n      </g>\r\n     </g>\r\n     <g id=\"text_13\">\r\n      <!-- 0.0 -->\r\n      <g transform=\"translate(15.579688 122.141205)scale(0.1 -0.1)\">\r\n       <use xlink:href=\"#DejaVuSans-48\"/>\r\n       <use x=\"63.623047\" xlink:href=\"#DejaVuSans-46\"/>\r\n       <use x=\"95.410156\" xlink:href=\"#DejaVuSans-48\"/>\r\n      </g>\r\n     </g>\r\n    </g>\r\n    <g id=\"ytick_5\">\r\n     <g id=\"line2d_14\">\r\n      <g>\r\n       <use style=\"stroke:#000000;stroke-width:0.8;\" x=\"38.482813\" xlink:href=\"#m48bda22edf\" y=\"86.264845\"/>\r\n      </g>\r\n     </g>\r\n     <g id=\"text_14\">\r\n      <!-- 0.5 -->\r\n      <g transform=\"translate(15.579688 90.064064)scale(0.1 -0.1)\">\r\n       <use xlink:href=\"#DejaVuSans-48\"/>\r\n       <use x=\"63.623047\" xlink:href=\"#DejaVuSans-46\"/>\r\n       <use x=\"95.410156\" xlink:href=\"#DejaVuSans-53\"/>\r\n      </g>\r\n     </g>\r\n    </g>\r\n    <g id=\"ytick_6\">\r\n     <g id=\"line2d_15\">\r\n      <g>\r\n       <use style=\"stroke:#000000;stroke-width:0.8;\" x=\"38.482813\" xlink:href=\"#m48bda22edf\" y=\"54.187703\"/>\r\n      </g>\r\n     </g>\r\n     <g id=\"text_15\">\r\n      <!-- 1.0 -->\r\n      <g transform=\"translate(15.579688 57.986922)scale(0.1 -0.1)\">\r\n       <use xlink:href=\"#DejaVuSans-49\"/>\r\n       <use x=\"63.623047\" xlink:href=\"#DejaVuSans-46\"/>\r\n       <use x=\"95.410156\" xlink:href=\"#DejaVuSans-48\"/>\r\n      </g>\r\n     </g>\r\n    </g>\r\n    <g id=\"ytick_7\">\r\n     <g id=\"line2d_16\">\r\n      <g>\r\n       <use style=\"stroke:#000000;stroke-width:0.8;\" x=\"38.482813\" xlink:href=\"#m48bda22edf\" y=\"22.110561\"/>\r\n      </g>\r\n     </g>\r\n     <g id=\"text_16\">\r\n      <!-- 1.5 -->\r\n      <g transform=\"translate(15.579688 25.90978)scale(0.1 -0.1)\">\r\n       <use xlink:href=\"#DejaVuSans-49\"/>\r\n       <use x=\"63.623047\" xlink:href=\"#DejaVuSans-46\"/>\r\n       <use x=\"95.410156\" xlink:href=\"#DejaVuSans-53\"/>\r\n      </g>\r\n     </g>\r\n    </g>\r\n   </g>\r\n   <g id=\"line2d_17\">\r\n    <path clip-path=\"url(#p31fab4f501)\" d=\"M 53.700994 218.256364 \r\nL 58.289391 211.95599 \r\nL 62.877787 206.184244 \r\nL 67.466184 200.868093 \r\nL 72.05458 195.947122 \r\nL 76.642977 191.370906 \r\nL 81.231373 187.097013 \r\nL 85.81977 183.089459 \r\nL 90.408167 179.317519 \r\nL 96.526029 174.60965 \r\nL 102.643891 170.221078 \r\nL 108.761753 166.107662 \r\nL 114.879615 162.232294 \r\nL 122.526942 157.675312 \r\nL 130.17427 153.389632 \r\nL 139.351063 148.544574 \r\nL 148.527856 143.966024 \r\nL 159.234114 138.892368 \r\nL 171.469839 133.363286 \r\nL 186.764494 126.729346 \r\nL 211.235942 116.416781 \r\nL 234.177924 106.667862 \r\nL 247.943114 100.586767 \r\nL 260.178838 94.923845 \r\nL 269.355631 90.458533 \r\nL 278.532424 85.753798 \r\nL 286.179752 81.609693 \r\nL 293.827079 77.221108 \r\nL 301.474407 72.541666 \r\nL 307.592269 68.551532 \r\nL 313.710131 64.305579 \r\nL 319.827993 59.763382 \r\nL 325.945855 54.876622 \r\nL 330.534252 50.95079 \r\nL 335.122648 46.769393 \r\nL 339.711045 42.298319 \r\nL 344.299441 37.497439 \r\nL 348.887838 32.319187 \r\nL 353.476234 26.706735 \r\nL 358.064631 20.591597 \r\nL 358.064631 20.591597 \r\n\" style=\"fill:none;stroke:#1f77b4;stroke-linecap:square;stroke-width:1.5;\"/>\r\n   </g>\r\n   <g id=\"line2d_18\">\r\n    <path clip-path=\"url(#p31fab4f501)\" d=\"M 53.700994 218.256364 \r\nL 58.289391 211.969623 \r\nL 62.877787 206.191209 \r\nL 67.466184 200.861647 \r\nL 72.05458 195.928145 \r\nL 76.642977 191.343964 \r\nL 81.231373 187.067845 \r\nL 85.81977 183.06346 \r\nL 90.408167 179.29891 \r\nL 96.526029 174.604807 \r\nL 102.643891 170.231131 \r\nL 108.761753 166.130673 \r\nL 114.879615 162.264197 \r\nL 122.526942 157.711022 \r\nL 130.17427 153.420986 \r\nL 139.351063 148.562229 \r\nL 148.527856 143.965167 \r\nL 159.234114 138.870772 \r\nL 171.469839 133.327439 \r\nL 185.235028 127.348918 \r\nL 206.647545 118.341987 \r\nL 232.648459 107.36615 \r\nL 246.413648 101.307684 \r\nL 257.119907 96.383726 \r\nL 267.826166 91.212468 \r\nL 277.002959 86.533815 \r\nL 286.179752 81.575686 \r\nL 293.827079 77.185905 \r\nL 301.474407 72.513608 \r\nL 307.592269 68.534601 \r\nL 313.710131 64.302903 \r\nL 319.827993 59.77547 \r\nL 325.945855 54.900555 \r\nL 330.534252 50.979455 \r\nL 335.122648 46.797721 \r\nL 339.711045 42.320558 \r\nL 344.299441 37.508407 \r\nL 348.887838 32.316419 \r\nL 353.476234 26.693888 \r\nL 358.064631 20.583636 \r\nL 358.064631 20.583636 \r\n\" style=\"fill:none;stroke:#ff7f0e;stroke-linecap:square;stroke-width:1.5;\"/>\r\n   </g>\r\n   <g id=\"patch_3\">\r\n    <path d=\"M 38.482813 228.14 \r\nL 38.482813 10.7 \r\n\" style=\"fill:none;stroke:#000000;stroke-linecap:square;stroke-linejoin:miter;stroke-width:0.8;\"/>\r\n   </g>\r\n   <g id=\"patch_4\">\r\n    <path d=\"M 373.282813 228.14 \r\nL 373.282813 10.7 \r\n\" style=\"fill:none;stroke:#000000;stroke-linecap:square;stroke-linejoin:miter;stroke-width:0.8;\"/>\r\n   </g>\r\n   <g id=\"patch_5\">\r\n    <path d=\"M 38.482812 228.14 \r\nL 373.282812 228.14 \r\n\" style=\"fill:none;stroke:#000000;stroke-linecap:square;stroke-linejoin:miter;stroke-width:0.8;\"/>\r\n   </g>\r\n   <g id=\"patch_6\">\r\n    <path d=\"M 38.482812 10.7 \r\nL 373.282812 10.7 \r\n\" style=\"fill:none;stroke:#000000;stroke-linecap:square;stroke-linejoin:miter;stroke-width:0.8;\"/>\r\n   </g>\r\n  </g>\r\n </g>\r\n <defs>\r\n  <clipPath id=\"p31fab4f501\">\r\n   <rect height=\"217.44\" width=\"334.8\" x=\"38.482813\" y=\"10.7\"/>\r\n  </clipPath>\r\n </defs>\r\n</svg>\r\n",
      "image/png": "[encoded data removed]"
     },
     "metadata": {
      "needs_background": "light"
     }
    },
    {
     "output_type": "stream",
     "name": "stdout",
     "text": "2.220446049250313e-16\n2.220446049250313e-16\n1.1102230246251565e-16\n1.6653345369377348e-16\n1.0257883504761298e-16\n2.7755575615628914e-16\n1.1102230246251565e-16\n4.440892098500626e-16\n6.661338147750939e-16\n"
    }
   ],
   "source": [
    "test_func = lambda x : tan(x)\n",
    "TestChebyshev(test_func, -1., 1., 9)"
   ]
  },
  {
   "cell_type": "markdown",
   "metadata": {},
   "source": [
    "Now, define the ITM probabilities and construct the iteration functions."
   ]
  },
  {
   "cell_type": "code",
   "execution_count": 12,
   "metadata": {},
   "outputs": [],
   "source": [
    "def d(boundary, initial, final, vol, pm):\n",
    "    var = vol * sqrt(final - initial)\n",
    "    diff = boundary(initial) - boundary(final)\n",
    "    arg = diff / var + .5 * pm * var\n",
    "    \n",
    "    return arg"
   ]
  },
  {
   "cell_type": "code",
   "execution_count": 13,
   "metadata": {},
   "outputs": [],
   "source": [
    "def d_terminal(boundary, initial, maturity, moneyness, vol, pm):\n",
    "    var = vol * sqrt(maturity - initial)\n",
    "    diff = boundary(initial) - moneyness\n",
    "    arg = diff / var + .5 * pm * var\n",
    "    \n",
    "    return arg"
   ]
  },
  {
   "cell_type": "code",
   "execution_count": 22,
   "metadata": {},
   "outputs": [],
   "source": [
    "def numerator(boundary, \n",
    "              moneyness, \n",
    "              initial, \n",
    "              maturity, \n",
    "              vol, \n",
    "              discount_curve, \n",
    "              discount_curve_deriv, \n",
    "              callPut,\n",
    "              degree):\n",
    "    result = scipy.stats.norm.cdf(-callPut * d_terminal(boundary,\n",
    "                                                        initial, \n",
    "                                                        maturity, \n",
    "                                                        moneyness, \n",
    "                                                        vol, \n",
    "                                                        -1))\n",
    "    \n",
    "    integrand = lambda x: scipy.stats.norm.cdf(-callPut * d(boundary, initial, x, vol, -1)) \\\n",
    "                                           * discount_curve_deriv(x)\n",
    "    result -= GaussLegendreIntegration(integrand,\n",
    "                                       initial,\n",
    "                                       maturity,\n",
    "                                       degree) / discount_curve(maturity)\n",
    "                    \n",
    "    return result                              "
   ]
  },
  {
   "cell_type": "code",
   "execution_count": 23,
   "metadata": {},
   "outputs": [],
   "source": [
    "def denominator(boundary, \n",
    "                moneyness, \n",
    "                initial, \n",
    "                maturity, \n",
    "                vol, \n",
    "                discounted_forward, \n",
    "                discounted_forward_deriv, \n",
    "                callPut,\n",
    "                degree):\n",
    "    result = scipy.stats.norm.cdf(-callPut * d_terminal(boundary,\n",
    "                                                        initial, \n",
    "                                                        maturity, \n",
    "                                                        moneyness, \n",
    "                                                        vol, \n",
    "                                                        1))\n",
    "    \n",
    "    integrand = lambda x: scipy.stats.norm.cdf(-callPut * d(boundary, initial, x, vol, 1)) \\\n",
    "                                          * discounted_forward_deriv(x)\n",
    "    result -= GaussLegendreIntegration(integrand,\n",
    "                                       initial,\n",
    "                                       maturity,\n",
    "                                       degree) / discounted_forward(maturity)\n",
    "                    \n",
    "    return result                              "
   ]
  },
  {
   "cell_type": "markdown",
   "metadata": {},
   "source": [
    "From an initial flat exercise boundary, run just one iteration to check the code."
   ]
  },
  {
   "cell_type": "code",
   "execution_count": 47,
   "metadata": {
    "tags": []
   },
   "outputs": [
    {
     "output_type": "error",
     "ename": "TypeError",
     "evalue": "only size-1 arrays can be converted to Python scalars",
     "traceback": [
      "\u001b[1;31m---------------------------------------------------------------------------\u001b[0m",
      "\u001b[1;31mTypeError\u001b[0m                                 Traceback (most recent call last)",
      "\u001b[1;32m<ipython-input-47-2688d34bbaa7>\u001b[0m in \u001b[0;36m<module>\u001b[1;34m\u001b[0m\n\u001b[0;32m     32\u001b[0m                 \u001b[0mdiscount_curve_deriv\u001b[0m\u001b[1;33m,\u001b[0m\u001b[1;33m\u001b[0m\u001b[1;33m\u001b[0m\u001b[0m\n\u001b[0;32m     33\u001b[0m                 \u001b[0mcall_put\u001b[0m\u001b[1;33m,\u001b[0m\u001b[1;33m\u001b[0m\u001b[1;33m\u001b[0m\u001b[0m\n\u001b[1;32m---> 34\u001b[1;33m                 degree))\n\u001b[0m\u001b[0;32m     35\u001b[0m print(denominator(boundary, \n\u001b[0;32m     36\u001b[0m                   \u001b[0mmoneyness\u001b[0m\u001b[1;33m,\u001b[0m\u001b[1;33m\u001b[0m\u001b[1;33m\u001b[0m\u001b[0m\n",
      "\u001b[1;32m<ipython-input-22-8ff5ee7d7c60>\u001b[0m in \u001b[0;36mnumerator\u001b[1;34m(boundary, moneyness, initial, maturity, vol, discount_curve, discount_curve_deriv, callPut, degree)\u001b[0m\n\u001b[0;32m     13\u001b[0m                                                         \u001b[0mmoneyness\u001b[0m\u001b[1;33m,\u001b[0m\u001b[1;33m\u001b[0m\u001b[1;33m\u001b[0m\u001b[0m\n\u001b[0;32m     14\u001b[0m                                                         \u001b[0mvol\u001b[0m\u001b[1;33m,\u001b[0m\u001b[1;33m\u001b[0m\u001b[1;33m\u001b[0m\u001b[0m\n\u001b[1;32m---> 15\u001b[1;33m                                                         -1))\n\u001b[0m\u001b[0;32m     16\u001b[0m \u001b[1;33m\u001b[0m\u001b[0m\n\u001b[0;32m     17\u001b[0m     \u001b[0mintegrand\u001b[0m \u001b[1;33m=\u001b[0m \u001b[1;32mlambda\u001b[0m \u001b[0mx\u001b[0m\u001b[1;33m:\u001b[0m \u001b[0mscipy\u001b[0m\u001b[1;33m.\u001b[0m\u001b[0mstats\u001b[0m\u001b[1;33m.\u001b[0m\u001b[0mnorm\u001b[0m\u001b[1;33m.\u001b[0m\u001b[0mcdf\u001b[0m\u001b[1;33m(\u001b[0m\u001b[1;33m-\u001b[0m\u001b[0mcallPut\u001b[0m \u001b[1;33m*\u001b[0m \u001b[0md\u001b[0m\u001b[1;33m(\u001b[0m\u001b[0mboundary\u001b[0m\u001b[1;33m,\u001b[0m \u001b[0minitial\u001b[0m\u001b[1;33m,\u001b[0m \u001b[0mx\u001b[0m\u001b[1;33m,\u001b[0m \u001b[0mvol\u001b[0m\u001b[1;33m,\u001b[0m \u001b[1;33m-\u001b[0m\u001b[1;36m1\u001b[0m\u001b[1;33m)\u001b[0m\u001b[1;33m)\u001b[0m\u001b[0;31m \u001b[0m\u001b[0;31m\\\u001b[0m\u001b[1;33m\u001b[0m\u001b[1;33m\u001b[0m\u001b[0m\n",
      "\u001b[1;32m<ipython-input-13-1d24e679dc38>\u001b[0m in \u001b[0;36md_terminal\u001b[1;34m(boundary, initial, maturity, moneyness, vol, pm)\u001b[0m\n\u001b[0;32m      1\u001b[0m \u001b[1;32mdef\u001b[0m \u001b[0md_terminal\u001b[0m\u001b[1;33m(\u001b[0m\u001b[0mboundary\u001b[0m\u001b[1;33m,\u001b[0m \u001b[0minitial\u001b[0m\u001b[1;33m,\u001b[0m \u001b[0mmaturity\u001b[0m\u001b[1;33m,\u001b[0m \u001b[0mmoneyness\u001b[0m\u001b[1;33m,\u001b[0m \u001b[0mvol\u001b[0m\u001b[1;33m,\u001b[0m \u001b[0mpm\u001b[0m\u001b[1;33m)\u001b[0m\u001b[1;33m:\u001b[0m\u001b[1;33m\u001b[0m\u001b[1;33m\u001b[0m\u001b[0m\n\u001b[1;32m----> 2\u001b[1;33m     \u001b[0mvar\u001b[0m \u001b[1;33m=\u001b[0m \u001b[0mvol\u001b[0m \u001b[1;33m*\u001b[0m \u001b[0msqrt\u001b[0m\u001b[1;33m(\u001b[0m\u001b[0mmaturity\u001b[0m \u001b[1;33m-\u001b[0m \u001b[0minitial\u001b[0m\u001b[1;33m)\u001b[0m\u001b[1;33m\u001b[0m\u001b[1;33m\u001b[0m\u001b[0m\n\u001b[0m\u001b[0;32m      3\u001b[0m     \u001b[0mdiff\u001b[0m \u001b[1;33m=\u001b[0m \u001b[0mboundary\u001b[0m\u001b[1;33m(\u001b[0m\u001b[0minitial\u001b[0m\u001b[1;33m)\u001b[0m \u001b[1;33m-\u001b[0m \u001b[0mmoneyness\u001b[0m\u001b[1;33m\u001b[0m\u001b[1;33m\u001b[0m\u001b[0m\n\u001b[0;32m      4\u001b[0m     \u001b[0marg\u001b[0m \u001b[1;33m=\u001b[0m \u001b[0mdiff\u001b[0m \u001b[1;33m/\u001b[0m \u001b[0mvar\u001b[0m \u001b[1;33m+\u001b[0m \u001b[1;36m.5\u001b[0m \u001b[1;33m*\u001b[0m \u001b[0mpm\u001b[0m \u001b[1;33m*\u001b[0m \u001b[0mvar\u001b[0m\u001b[1;33m\u001b[0m\u001b[1;33m\u001b[0m\u001b[0m\n\u001b[0;32m      5\u001b[0m \u001b[1;33m\u001b[0m\u001b[0m\n",
      "\u001b[1;31mTypeError\u001b[0m: only size-1 arrays can be converted to Python scalars"
     ]
    }
   ],
   "source": [
    "S = 45\n",
    "K = 45\n",
    "T = 1.\n",
    "vol = .2\n",
    "\n",
    "r = .05\n",
    "q = .0\n",
    "\n",
    "call_put = -1\n",
    "degree = 11\n",
    "\n",
    "# These two curves are not necessarily exponential.\n",
    "# Any form will be fine, which is the flexibility of this formulation\n",
    "discount_curve = lambda x: exp(-r * x)\n",
    "funding_curve = lambda x: exp(-(r-q) * x)\n",
    "\n",
    "forward_curve = lambda x: S / funding_curve(x)\n",
    "discounted_forward_curve = lambda x: discount_curve(x) * forward_curve(x)\n",
    "\n",
    "discount_curve_deriv = lambda x: -r * discount_curve(x)\n",
    "discounted_forward_curve_deriv = lambda x: -q * discounted_forward_curve(x)\n",
    "\n",
    "moneyness = log(K/forward_curve(T))\n",
    "boundary = lambda x: moneyness\n",
    "\n",
    "print(numerator(boundary, \n",
    "                moneyness, \n",
    "                t, \n",
    "                T, \n",
    "                vol, \n",
    "                discount_curve, \n",
    "                discount_curve_deriv, \n",
    "                call_put, \n",
    "                degree))\n",
    "print(denominator(boundary, \n",
    "                  moneyness, \n",
    "                  t, \n",
    "                  T, \n",
    "                  vol, \n",
    "                  discounted_forward_curve, \n",
    "                  discounted_forward_curve_deriv, \n",
    "                  call_put, \n",
    "                  degree))"
   ]
  },
  {
   "cell_type": "code",
   "execution_count": 48,
   "metadata": {},
   "outputs": [
    {
     "output_type": "display_data",
     "data": {
      "text/plain": "<Figure size 432x288 with 1 Axes>",
      "image/svg+xml": "<?xml version=\"1.0\" encoding=\"utf-8\" standalone=\"no\"?>\r\n<!DOCTYPE svg PUBLIC \"-//W3C//DTD SVG 1.1//EN\"\r\n  \"http://www.w3.org/Graphics/SVG/1.1/DTD/svg11.dtd\">\r\n<!-- Created with matplotlib (https://matplotlib.org/) -->\r\n<svg height=\"252.018125pt\" version=\"1.1\" viewBox=\"0 0 372.425 252.018125\" width=\"372.425pt\" xmlns=\"http://www.w3.org/2000/svg\" xmlns:xlink=\"http://www.w3.org/1999/xlink\">\r\n <defs>\r\n  <style type=\"text/css\">\r\n*{stroke-linecap:butt;stroke-linejoin:round;}\r\n  </style>\r\n </defs>\r\n <g id=\"figure_1\">\r\n  <g id=\"patch_1\">\r\n   <path d=\"M -0 252.018125 \r\nL 372.425 252.018125 \r\nL 372.425 0 \r\nL -0 0 \r\nz\r\n\" style=\"fill:none;\"/>\r\n  </g>\r\n  <g id=\"axes_1\">\r\n   <g id=\"patch_2\">\r\n    <path d=\"M 26.925 228.14 \r\nL 361.725 228.14 \r\nL 361.725 10.7 \r\nL 26.925 10.7 \r\nz\r\n\" style=\"fill:#ffffff;\"/>\r\n   </g>\r\n   <g id=\"matplotlib.axis_1\">\r\n    <g id=\"xtick_1\">\r\n     <g id=\"line2d_1\">\r\n      <defs>\r\n       <path d=\"M 0 0 \r\nL 0 3.5 \r\n\" id=\"mb0ab6ca805\" style=\"stroke:#000000;stroke-width:0.8;\"/>\r\n      </defs>\r\n      <g>\r\n       <use style=\"stroke:#000000;stroke-width:0.8;\" x=\"42.143182\" xlink:href=\"#mb0ab6ca805\" y=\"228.14\"/>\r\n      </g>\r\n     </g>\r\n     <g id=\"text_1\">\r\n      <!-- 0.0 -->\r\n      <defs>\r\n       <path d=\"M 31.78125 66.40625 \r\nQ 24.171875 66.40625 20.328125 58.90625 \r\nQ 16.5 51.421875 16.5 36.375 \r\nQ 16.5 21.390625 20.328125 13.890625 \r\nQ 24.171875 6.390625 31.78125 6.390625 \r\nQ 39.453125 6.390625 43.28125 13.890625 \r\nQ 47.125 21.390625 47.125 36.375 \r\nQ 47.125 51.421875 43.28125 58.90625 \r\nQ 39.453125 66.40625 31.78125 66.40625 \r\nz\r\nM 31.78125 74.21875 \r\nQ 44.046875 74.21875 50.515625 64.515625 \r\nQ 56.984375 54.828125 56.984375 36.375 \r\nQ 56.984375 17.96875 50.515625 8.265625 \r\nQ 44.046875 -1.421875 31.78125 -1.421875 \r\nQ 19.53125 -1.421875 13.0625 8.265625 \r\nQ 6.59375 17.96875 6.59375 36.375 \r\nQ 6.59375 54.828125 13.0625 64.515625 \r\nQ 19.53125 74.21875 31.78125 74.21875 \r\nz\r\n\" id=\"DejaVuSans-48\"/>\r\n       <path d=\"M 10.6875 12.40625 \r\nL 21 12.40625 \r\nL 21 0 \r\nL 10.6875 0 \r\nz\r\n\" id=\"DejaVuSans-46\"/>\r\n      </defs>\r\n      <g transform=\"translate(34.191619 242.738437)scale(0.1 -0.1)\">\r\n       <use xlink:href=\"#DejaVuSans-48\"/>\r\n       <use x=\"63.623047\" xlink:href=\"#DejaVuSans-46\"/>\r\n       <use x=\"95.410156\" xlink:href=\"#DejaVuSans-48\"/>\r\n      </g>\r\n     </g>\r\n    </g>\r\n    <g id=\"xtick_2\">\r\n     <g id=\"line2d_2\">\r\n      <g>\r\n       <use style=\"stroke:#000000;stroke-width:0.8;\" x=\"103.076843\" xlink:href=\"#mb0ab6ca805\" y=\"228.14\"/>\r\n      </g>\r\n     </g>\r\n     <g id=\"text_2\">\r\n      <!-- 0.2 -->\r\n      <defs>\r\n       <path d=\"M 19.1875 8.296875 \r\nL 53.609375 8.296875 \r\nL 53.609375 0 \r\nL 7.328125 0 \r\nL 7.328125 8.296875 \r\nQ 12.9375 14.109375 22.625 23.890625 \r\nQ 32.328125 33.6875 34.8125 36.53125 \r\nQ 39.546875 41.84375 41.421875 45.53125 \r\nQ 43.3125 49.21875 43.3125 52.78125 \r\nQ 43.3125 58.59375 39.234375 62.25 \r\nQ 35.15625 65.921875 28.609375 65.921875 \r\nQ 23.96875 65.921875 18.8125 64.3125 \r\nQ 13.671875 62.703125 7.8125 59.421875 \r\nL 7.8125 69.390625 \r\nQ 13.765625 71.78125 18.9375 73 \r\nQ 24.125 74.21875 28.421875 74.21875 \r\nQ 39.75 74.21875 46.484375 68.546875 \r\nQ 53.21875 62.890625 53.21875 53.421875 \r\nQ 53.21875 48.921875 51.53125 44.890625 \r\nQ 49.859375 40.875 45.40625 35.40625 \r\nQ 44.1875 33.984375 37.640625 27.21875 \r\nQ 31.109375 20.453125 19.1875 8.296875 \r\nz\r\n\" id=\"DejaVuSans-50\"/>\r\n      </defs>\r\n      <g transform=\"translate(95.12528 242.738437)scale(0.1 -0.1)\">\r\n       <use xlink:href=\"#DejaVuSans-48\"/>\r\n       <use x=\"63.623047\" xlink:href=\"#DejaVuSans-46\"/>\r\n       <use x=\"95.410156\" xlink:href=\"#DejaVuSans-50\"/>\r\n      </g>\r\n     </g>\r\n    </g>\r\n    <g id=\"xtick_3\">\r\n     <g id=\"line2d_3\">\r\n      <g>\r\n       <use style=\"stroke:#000000;stroke-width:0.8;\" x=\"164.010504\" xlink:href=\"#mb0ab6ca805\" y=\"228.14\"/>\r\n      </g>\r\n     </g>\r\n     <g id=\"text_3\">\r\n      <!-- 0.4 -->\r\n      <defs>\r\n       <path d=\"M 37.796875 64.3125 \r\nL 12.890625 25.390625 \r\nL 37.796875 25.390625 \r\nz\r\nM 35.203125 72.90625 \r\nL 47.609375 72.90625 \r\nL 47.609375 25.390625 \r\nL 58.015625 25.390625 \r\nL 58.015625 17.1875 \r\nL 47.609375 17.1875 \r\nL 47.609375 0 \r\nL 37.796875 0 \r\nL 37.796875 17.1875 \r\nL 4.890625 17.1875 \r\nL 4.890625 26.703125 \r\nz\r\n\" id=\"DejaVuSans-52\"/>\r\n      </defs>\r\n      <g transform=\"translate(156.058941 242.738437)scale(0.1 -0.1)\">\r\n       <use xlink:href=\"#DejaVuSans-48\"/>\r\n       <use x=\"63.623047\" xlink:href=\"#DejaVuSans-46\"/>\r\n       <use x=\"95.410156\" xlink:href=\"#DejaVuSans-52\"/>\r\n      </g>\r\n     </g>\r\n    </g>\r\n    <g id=\"xtick_4\">\r\n     <g id=\"line2d_4\">\r\n      <g>\r\n       <use style=\"stroke:#000000;stroke-width:0.8;\" x=\"224.944165\" xlink:href=\"#mb0ab6ca805\" y=\"228.14\"/>\r\n      </g>\r\n     </g>\r\n     <g id=\"text_4\">\r\n      <!-- 0.6 -->\r\n      <defs>\r\n       <path d=\"M 33.015625 40.375 \r\nQ 26.375 40.375 22.484375 35.828125 \r\nQ 18.609375 31.296875 18.609375 23.390625 \r\nQ 18.609375 15.53125 22.484375 10.953125 \r\nQ 26.375 6.390625 33.015625 6.390625 \r\nQ 39.65625 6.390625 43.53125 10.953125 \r\nQ 47.40625 15.53125 47.40625 23.390625 \r\nQ 47.40625 31.296875 43.53125 35.828125 \r\nQ 39.65625 40.375 33.015625 40.375 \r\nz\r\nM 52.59375 71.296875 \r\nL 52.59375 62.3125 \r\nQ 48.875 64.0625 45.09375 64.984375 \r\nQ 41.3125 65.921875 37.59375 65.921875 \r\nQ 27.828125 65.921875 22.671875 59.328125 \r\nQ 17.53125 52.734375 16.796875 39.40625 \r\nQ 19.671875 43.65625 24.015625 45.921875 \r\nQ 28.375 48.1875 33.59375 48.1875 \r\nQ 44.578125 48.1875 50.953125 41.515625 \r\nQ 57.328125 34.859375 57.328125 23.390625 \r\nQ 57.328125 12.15625 50.6875 5.359375 \r\nQ 44.046875 -1.421875 33.015625 -1.421875 \r\nQ 20.359375 -1.421875 13.671875 8.265625 \r\nQ 6.984375 17.96875 6.984375 36.375 \r\nQ 6.984375 53.65625 15.1875 63.9375 \r\nQ 23.390625 74.21875 37.203125 74.21875 \r\nQ 40.921875 74.21875 44.703125 73.484375 \r\nQ 48.484375 72.75 52.59375 71.296875 \r\nz\r\n\" id=\"DejaVuSans-54\"/>\r\n      </defs>\r\n      <g transform=\"translate(216.992602 242.738437)scale(0.1 -0.1)\">\r\n       <use xlink:href=\"#DejaVuSans-48\"/>\r\n       <use x=\"63.623047\" xlink:href=\"#DejaVuSans-46\"/>\r\n       <use x=\"95.410156\" xlink:href=\"#DejaVuSans-54\"/>\r\n      </g>\r\n     </g>\r\n    </g>\r\n    <g id=\"xtick_5\">\r\n     <g id=\"line2d_5\">\r\n      <g>\r\n       <use style=\"stroke:#000000;stroke-width:0.8;\" x=\"285.877826\" xlink:href=\"#mb0ab6ca805\" y=\"228.14\"/>\r\n      </g>\r\n     </g>\r\n     <g id=\"text_5\">\r\n      <!-- 0.8 -->\r\n      <defs>\r\n       <path d=\"M 31.78125 34.625 \r\nQ 24.75 34.625 20.71875 30.859375 \r\nQ 16.703125 27.09375 16.703125 20.515625 \r\nQ 16.703125 13.921875 20.71875 10.15625 \r\nQ 24.75 6.390625 31.78125 6.390625 \r\nQ 38.8125 6.390625 42.859375 10.171875 \r\nQ 46.921875 13.96875 46.921875 20.515625 \r\nQ 46.921875 27.09375 42.890625 30.859375 \r\nQ 38.875 34.625 31.78125 34.625 \r\nz\r\nM 21.921875 38.8125 \r\nQ 15.578125 40.375 12.03125 44.71875 \r\nQ 8.5 49.078125 8.5 55.328125 \r\nQ 8.5 64.0625 14.71875 69.140625 \r\nQ 20.953125 74.21875 31.78125 74.21875 \r\nQ 42.671875 74.21875 48.875 69.140625 \r\nQ 55.078125 64.0625 55.078125 55.328125 \r\nQ 55.078125 49.078125 51.53125 44.71875 \r\nQ 48 40.375 41.703125 38.8125 \r\nQ 48.828125 37.15625 52.796875 32.3125 \r\nQ 56.78125 27.484375 56.78125 20.515625 \r\nQ 56.78125 9.90625 50.3125 4.234375 \r\nQ 43.84375 -1.421875 31.78125 -1.421875 \r\nQ 19.734375 -1.421875 13.25 4.234375 \r\nQ 6.78125 9.90625 6.78125 20.515625 \r\nQ 6.78125 27.484375 10.78125 32.3125 \r\nQ 14.796875 37.15625 21.921875 38.8125 \r\nz\r\nM 18.3125 54.390625 \r\nQ 18.3125 48.734375 21.84375 45.5625 \r\nQ 25.390625 42.390625 31.78125 42.390625 \r\nQ 38.140625 42.390625 41.71875 45.5625 \r\nQ 45.3125 48.734375 45.3125 54.390625 \r\nQ 45.3125 60.0625 41.71875 63.234375 \r\nQ 38.140625 66.40625 31.78125 66.40625 \r\nQ 25.390625 66.40625 21.84375 63.234375 \r\nQ 18.3125 60.0625 18.3125 54.390625 \r\nz\r\n\" id=\"DejaVuSans-56\"/>\r\n      </defs>\r\n      <g transform=\"translate(277.926263 242.738437)scale(0.1 -0.1)\">\r\n       <use xlink:href=\"#DejaVuSans-48\"/>\r\n       <use x=\"63.623047\" xlink:href=\"#DejaVuSans-46\"/>\r\n       <use x=\"95.410156\" xlink:href=\"#DejaVuSans-56\"/>\r\n      </g>\r\n     </g>\r\n    </g>\r\n    <g id=\"xtick_6\">\r\n     <g id=\"line2d_6\">\r\n      <g>\r\n       <use style=\"stroke:#000000;stroke-width:0.8;\" x=\"346.811486\" xlink:href=\"#mb0ab6ca805\" y=\"228.14\"/>\r\n      </g>\r\n     </g>\r\n     <g id=\"text_6\">\r\n      <!-- 1.0 -->\r\n      <defs>\r\n       <path d=\"M 12.40625 8.296875 \r\nL 28.515625 8.296875 \r\nL 28.515625 63.921875 \r\nL 10.984375 60.40625 \r\nL 10.984375 69.390625 \r\nL 28.421875 72.90625 \r\nL 38.28125 72.90625 \r\nL 38.28125 8.296875 \r\nL 54.390625 8.296875 \r\nL 54.390625 0 \r\nL 12.40625 0 \r\nz\r\n\" id=\"DejaVuSans-49\"/>\r\n      </defs>\r\n      <g transform=\"translate(338.859924 242.738437)scale(0.1 -0.1)\">\r\n       <use xlink:href=\"#DejaVuSans-49\"/>\r\n       <use x=\"63.623047\" xlink:href=\"#DejaVuSans-46\"/>\r\n       <use x=\"95.410156\" xlink:href=\"#DejaVuSans-48\"/>\r\n      </g>\r\n     </g>\r\n    </g>\r\n   </g>\r\n   <g id=\"matplotlib.axis_2\">\r\n    <g id=\"ytick_1\">\r\n     <g id=\"line2d_7\">\r\n      <defs>\r\n       <path d=\"M 0 0 \r\nL -3.5 0 \r\n\" id=\"m2229af42e8\" style=\"stroke:#000000;stroke-width:0.8;\"/>\r\n      </defs>\r\n      <g>\r\n       <use style=\"stroke:#000000;stroke-width:0.8;\" x=\"26.925\" xlink:href=\"#m2229af42e8\" y=\"200.671416\"/>\r\n      </g>\r\n     </g>\r\n     <g id=\"text_7\">\r\n      <!-- 39 -->\r\n      <defs>\r\n       <path d=\"M 40.578125 39.3125 \r\nQ 47.65625 37.796875 51.625 33 \r\nQ 55.609375 28.21875 55.609375 21.1875 \r\nQ 55.609375 10.40625 48.1875 4.484375 \r\nQ 40.765625 -1.421875 27.09375 -1.421875 \r\nQ 22.515625 -1.421875 17.65625 -0.515625 \r\nQ 12.796875 0.390625 7.625 2.203125 \r\nL 7.625 11.71875 \r\nQ 11.71875 9.328125 16.59375 8.109375 \r\nQ 21.484375 6.890625 26.8125 6.890625 \r\nQ 36.078125 6.890625 40.9375 10.546875 \r\nQ 45.796875 14.203125 45.796875 21.1875 \r\nQ 45.796875 27.640625 41.28125 31.265625 \r\nQ 36.765625 34.90625 28.71875 34.90625 \r\nL 20.21875 34.90625 \r\nL 20.21875 43.015625 \r\nL 29.109375 43.015625 \r\nQ 36.375 43.015625 40.234375 45.921875 \r\nQ 44.09375 48.828125 44.09375 54.296875 \r\nQ 44.09375 59.90625 40.109375 62.90625 \r\nQ 36.140625 65.921875 28.71875 65.921875 \r\nQ 24.65625 65.921875 20.015625 65.03125 \r\nQ 15.375 64.15625 9.8125 62.3125 \r\nL 9.8125 71.09375 \r\nQ 15.4375 72.65625 20.34375 73.4375 \r\nQ 25.25 74.21875 29.59375 74.21875 \r\nQ 40.828125 74.21875 47.359375 69.109375 \r\nQ 53.90625 64.015625 53.90625 55.328125 \r\nQ 53.90625 49.265625 50.4375 45.09375 \r\nQ 46.96875 40.921875 40.578125 39.3125 \r\nz\r\n\" id=\"DejaVuSans-51\"/>\r\n       <path d=\"M 10.984375 1.515625 \r\nL 10.984375 10.5 \r\nQ 14.703125 8.734375 18.5 7.8125 \r\nQ 22.3125 6.890625 25.984375 6.890625 \r\nQ 35.75 6.890625 40.890625 13.453125 \r\nQ 46.046875 20.015625 46.78125 33.40625 \r\nQ 43.953125 29.203125 39.59375 26.953125 \r\nQ 35.25 24.703125 29.984375 24.703125 \r\nQ 19.046875 24.703125 12.671875 31.3125 \r\nQ 6.296875 37.9375 6.296875 49.421875 \r\nQ 6.296875 60.640625 12.9375 67.421875 \r\nQ 19.578125 74.21875 30.609375 74.21875 \r\nQ 43.265625 74.21875 49.921875 64.515625 \r\nQ 56.59375 54.828125 56.59375 36.375 \r\nQ 56.59375 19.140625 48.40625 8.859375 \r\nQ 40.234375 -1.421875 26.421875 -1.421875 \r\nQ 22.703125 -1.421875 18.890625 -0.6875 \r\nQ 15.09375 0.046875 10.984375 1.515625 \r\nz\r\nM 30.609375 32.421875 \r\nQ 37.25 32.421875 41.125 36.953125 \r\nQ 45.015625 41.5 45.015625 49.421875 \r\nQ 45.015625 57.28125 41.125 61.84375 \r\nQ 37.25 66.40625 30.609375 66.40625 \r\nQ 23.96875 66.40625 20.09375 61.84375 \r\nQ 16.21875 57.28125 16.21875 49.421875 \r\nQ 16.21875 41.5 20.09375 36.953125 \r\nQ 23.96875 32.421875 30.609375 32.421875 \r\nz\r\n\" id=\"DejaVuSans-57\"/>\r\n      </defs>\r\n      <g transform=\"translate(7.2 204.470635)scale(0.1 -0.1)\">\r\n       <use xlink:href=\"#DejaVuSans-51\"/>\r\n       <use x=\"63.623047\" xlink:href=\"#DejaVuSans-57\"/>\r\n      </g>\r\n     </g>\r\n    </g>\r\n    <g id=\"ytick_2\">\r\n     <g id=\"line2d_8\">\r\n      <g>\r\n       <use style=\"stroke:#000000;stroke-width:0.8;\" x=\"26.925\" xlink:href=\"#m2229af42e8\" y=\"170.645527\"/>\r\n      </g>\r\n     </g>\r\n     <g id=\"text_8\">\r\n      <!-- 40 -->\r\n      <g transform=\"translate(7.2 174.444745)scale(0.1 -0.1)\">\r\n       <use xlink:href=\"#DejaVuSans-52\"/>\r\n       <use x=\"63.623047\" xlink:href=\"#DejaVuSans-48\"/>\r\n      </g>\r\n     </g>\r\n    </g>\r\n    <g id=\"ytick_3\">\r\n     <g id=\"line2d_9\">\r\n      <g>\r\n       <use style=\"stroke:#000000;stroke-width:0.8;\" x=\"26.925\" xlink:href=\"#m2229af42e8\" y=\"140.619637\"/>\r\n      </g>\r\n     </g>\r\n     <g id=\"text_9\">\r\n      <!-- 41 -->\r\n      <g transform=\"translate(7.2 144.418856)scale(0.1 -0.1)\">\r\n       <use xlink:href=\"#DejaVuSans-52\"/>\r\n       <use x=\"63.623047\" xlink:href=\"#DejaVuSans-49\"/>\r\n      </g>\r\n     </g>\r\n    </g>\r\n    <g id=\"ytick_4\">\r\n     <g id=\"line2d_10\">\r\n      <g>\r\n       <use style=\"stroke:#000000;stroke-width:0.8;\" x=\"26.925\" xlink:href=\"#m2229af42e8\" y=\"110.593748\"/>\r\n      </g>\r\n     </g>\r\n     <g id=\"text_10\">\r\n      <!-- 42 -->\r\n      <g transform=\"translate(7.2 114.392967)scale(0.1 -0.1)\">\r\n       <use xlink:href=\"#DejaVuSans-52\"/>\r\n       <use x=\"63.623047\" xlink:href=\"#DejaVuSans-50\"/>\r\n      </g>\r\n     </g>\r\n    </g>\r\n    <g id=\"ytick_5\">\r\n     <g id=\"line2d_11\">\r\n      <g>\r\n       <use style=\"stroke:#000000;stroke-width:0.8;\" x=\"26.925\" xlink:href=\"#m2229af42e8\" y=\"80.567859\"/>\r\n      </g>\r\n     </g>\r\n     <g id=\"text_11\">\r\n      <!-- 43 -->\r\n      <g transform=\"translate(7.2 84.367077)scale(0.1 -0.1)\">\r\n       <use xlink:href=\"#DejaVuSans-52\"/>\r\n       <use x=\"63.623047\" xlink:href=\"#DejaVuSans-51\"/>\r\n      </g>\r\n     </g>\r\n    </g>\r\n    <g id=\"ytick_6\">\r\n     <g id=\"line2d_12\">\r\n      <g>\r\n       <use style=\"stroke:#000000;stroke-width:0.8;\" x=\"26.925\" xlink:href=\"#m2229af42e8\" y=\"50.541969\"/>\r\n      </g>\r\n     </g>\r\n     <g id=\"text_12\">\r\n      <!-- 44 -->\r\n      <g transform=\"translate(7.2 54.341188)scale(0.1 -0.1)\">\r\n       <use xlink:href=\"#DejaVuSans-52\"/>\r\n       <use x=\"63.623047\" xlink:href=\"#DejaVuSans-52\"/>\r\n      </g>\r\n     </g>\r\n    </g>\r\n    <g id=\"ytick_7\">\r\n     <g id=\"line2d_13\">\r\n      <g>\r\n       <use style=\"stroke:#000000;stroke-width:0.8;\" x=\"26.925\" xlink:href=\"#m2229af42e8\" y=\"20.51608\"/>\r\n      </g>\r\n     </g>\r\n     <g id=\"text_13\">\r\n      <!-- 45 -->\r\n      <defs>\r\n       <path d=\"M 10.796875 72.90625 \r\nL 49.515625 72.90625 \r\nL 49.515625 64.59375 \r\nL 19.828125 64.59375 \r\nL 19.828125 46.734375 \r\nQ 21.96875 47.46875 24.109375 47.828125 \r\nQ 26.265625 48.1875 28.421875 48.1875 \r\nQ 40.625 48.1875 47.75 41.5 \r\nQ 54.890625 34.8125 54.890625 23.390625 \r\nQ 54.890625 11.625 47.5625 5.09375 \r\nQ 40.234375 -1.421875 26.90625 -1.421875 \r\nQ 22.3125 -1.421875 17.546875 -0.640625 \r\nQ 12.796875 0.140625 7.71875 1.703125 \r\nL 7.71875 11.625 \r\nQ 12.109375 9.234375 16.796875 8.0625 \r\nQ 21.484375 6.890625 26.703125 6.890625 \r\nQ 35.15625 6.890625 40.078125 11.328125 \r\nQ 45.015625 15.765625 45.015625 23.390625 \r\nQ 45.015625 31 40.078125 35.4375 \r\nQ 35.15625 39.890625 26.703125 39.890625 \r\nQ 22.75 39.890625 18.8125 39.015625 \r\nQ 14.890625 38.140625 10.796875 36.28125 \r\nz\r\n\" id=\"DejaVuSans-53\"/>\r\n      </defs>\r\n      <g transform=\"translate(7.2 24.315299)scale(0.1 -0.1)\">\r\n       <use xlink:href=\"#DejaVuSans-52\"/>\r\n       <use x=\"63.623047\" xlink:href=\"#DejaVuSans-53\"/>\r\n      </g>\r\n     </g>\r\n    </g>\r\n   </g>\r\n   <g id=\"line2d_14\">\r\n    <path clip-path=\"url(#pf20038e126)\" d=\"M 42.143182 86.413176 \r\nL 122.880283 69.270053 \r\nL 203.312715 51.96426 \r\nL 283.135811 34.562235 \r\nL 346.506818 20.583636 \r\nL 346.506818 20.583636 \r\n\" style=\"fill:none;stroke:#1f77b4;stroke-linecap:square;stroke-width:1.5;\"/>\r\n   </g>\r\n   <g id=\"line2d_15\">\r\n    <path clip-path=\"url(#pf20038e126)\" d=\"M 42.143182 218.256364 \r\nL 61.641953 212.403168 \r\nL 80.22672 206.596101 \r\nL 97.897482 200.846118 \r\nL 114.654238 195.165556 \r\nL 130.801658 189.458356 \r\nL 146.035074 183.84065 \r\nL 160.659152 178.209488 \r\nL 174.369226 172.693192 \r\nL 187.469963 167.18151 \r\nL 199.656695 161.817047 \r\nL 211.234091 156.481931 \r\nL 222.20215 151.184902 \r\nL 232.560872 145.936142 \r\nL 242.310258 140.747548 \r\nL 251.450307 135.633062 \r\nL 259.98102 130.60905 \r\nL 267.902396 125.694751 \r\nL 275.519103 120.707878 \r\nL 282.526474 115.856803 \r\nL 289.229177 110.940496 \r\nL 295.322543 106.195514 \r\nL 301.111241 101.399526 \r\nL 306.290602 96.824674 \r\nL 311.165295 92.224864 \r\nL 315.735319 87.598654 \r\nL 319.696007 83.289006 \r\nL 323.352027 79.005913 \r\nL 326.703378 74.760219 \r\nL 329.750061 70.566365 \r\nL 332.492076 66.443907 \r\nL 334.929423 62.419754 \r\nL 337.366769 57.941479 \r\nL 339.499447 53.503229 \r\nL 341.327457 49.132308 \r\nL 342.850799 44.875152 \r\nL 344.069472 40.815597 \r\nL 344.983477 37.113944 \r\nL 345.897482 32.274047 \r\nL 346.506818 27.317188 \r\nL 346.506818 27.317188 \r\n\" style=\"fill:none;stroke:#ff7f0e;stroke-linecap:square;stroke-width:1.5;\"/>\r\n   </g>\r\n   <g id=\"patch_3\">\r\n    <path d=\"M 26.925 228.14 \r\nL 26.925 10.7 \r\n\" style=\"fill:none;stroke:#000000;stroke-linecap:square;stroke-linejoin:miter;stroke-width:0.8;\"/>\r\n   </g>\r\n   <g id=\"patch_4\">\r\n    <path d=\"M 361.725 228.14 \r\nL 361.725 10.7 \r\n\" style=\"fill:none;stroke:#000000;stroke-linecap:square;stroke-linejoin:miter;stroke-width:0.8;\"/>\r\n   </g>\r\n   <g id=\"patch_5\">\r\n    <path d=\"M 26.925 228.14 \r\nL 361.725 228.14 \r\n\" style=\"fill:none;stroke:#000000;stroke-linecap:square;stroke-linejoin:miter;stroke-width:0.8;\"/>\r\n   </g>\r\n   <g id=\"patch_6\">\r\n    <path d=\"M 26.925 10.7 \r\nL 361.725 10.7 \r\n\" style=\"fill:none;stroke:#000000;stroke-linecap:square;stroke-linejoin:miter;stroke-width:0.8;\"/>\r\n   </g>\r\n  </g>\r\n </g>\r\n <defs>\r\n  <clipPath id=\"pf20038e126\">\r\n   <rect height=\"217.44\" width=\"334.8\" x=\"26.925\" y=\"10.7\"/>\r\n  </clipPath>\r\n </defs>\r\n</svg>\r\n",
      "image/png": "[encoded data removed]"
     },
     "metadata": {
      "needs_background": "light"
     }
    }
   ],
   "source": [
    "boundary_iter = lambda x: moneyness                \\\n",
    "                        + log(numerator(boundary, \n",
    "                                        moneyness, \n",
    "                                        x, \n",
    "                                        T, \n",
    "                                        vol, \n",
    "                                        discount_curve, \n",
    "                                        discount_curve_deriv, \n",
    "                                        call_put,\n",
    "                                        degree)    \\\n",
    "                             / denominator(boundary, \n",
    "                                           moneyness, \n",
    "                                           x, \n",
    "                                           T, \n",
    "                                           vol, \n",
    "                                           discounted_forward_curve, \n",
    "                                           discounted_forward_curve_deriv, \n",
    "                                           call_put,\n",
    "                                           degree))\n",
    "\n",
    "t = numpy.arange(0, T, 0.001)\n",
    "s1 = [forward_curve(x) * exp(boundary(x)) for x in t]\n",
    "s2 = [forward_curve(x) * exp(boundary_iter(x)) for x in t]\n",
    "\n",
    "fig, ax = plt.subplots()\n",
    "ax.plot(t, s1)\n",
    "ax.plot(t, s2)\n",
    "plt.show()"
   ]
  },
  {
   "cell_type": "markdown",
   "metadata": {},
   "source": [
    "In the above single iteration example, we have calculated the early exercise boundary values on a lot of points and then interpolate to form the updated boundary. We will speed up the process by"
   ]
  },
  {
   "cell_type": "code",
   "execution_count": 49,
   "metadata": {},
   "outputs": [],
   "source": [
    "def SampleValues(boundary,\n",
    "                 maturity,\n",
    "                 number_interpolation_points):\n",
    "    x = [cos(i*pi/(number_interpolation_points)) for i in range(number_interpolation_points+1)]\n",
    "    return x, [boundary(.5*maturity*(1+y)) for y in x]"
   ]
  },
  {
   "cell_type": "code",
   "execution_count": 50,
   "metadata": {},
   "outputs": [
    {
     "output_type": "execute_result",
     "data": {
      "text/plain": "([1.0,\n  0.970941817426052,\n  0.8854560256532099,\n  0.7485107481711011,\n  0.5680647467311559,\n  0.35460488704253557,\n  0.120536680255323,\n  -0.12053668025532288,\n  -0.35460488704253545,\n  -0.5680647467311557,\n  -0.7485107481711012,\n  -0.8854560256532096,\n  -0.970941817426052,\n  -1.0],\n [-0.049999999999999996,\n  -0.0685061935468004,\n  -0.08530809329735287,\n  -0.10024189236164338,\n  -0.11322997231280058,\n  -0.12427468489412397,\n  -0.13344764894958455,\n  -0.1408752593468858,\n  -0.1467213849332883,\n  -0.15116845576762555,\n  -0.15439828033305858,\n  -0.15657397368394285,\n  -0.15782431074771078,\n  -0.15823164954622673])"
     },
     "metadata": {},
     "execution_count": 50
    }
   ],
   "source": [
    "points, values = SampleValues(boundary, T, 13)\n",
    "points, [values[0]] + [boundary_iter(.5*T*(1+x)) for x in points[1:]]"
   ]
  },
  {
   "cell_type": "code",
   "execution_count": 51,
   "metadata": {},
   "outputs": [],
   "source": [
    "def EarlyExerciseBoundaryIteration(values,\n",
    "                                   points,\n",
    "                                   moneyness,\n",
    "                                   maturity,\n",
    "                                   vol,\n",
    "                                   call_put,\n",
    "                                   discount_curve,\n",
    "                                   discount_curve_deriv,\n",
    "                                   discounted_forward_curve,\n",
    "                                   discounted_forward_curve_deriv,\n",
    "                                   number_integration_points):\n",
    "    boundary_interp = lambda x: ChebyshevInterpolation(values, 2.*x/maturity-1.)\n",
    "    boundary_iter = lambda x: moneyness                \\\n",
    "                            + log(numerator(boundary_interp, \n",
    "                                            moneyness, \n",
    "                                            x, \n",
    "                                            maturity, \n",
    "                                            vol, \n",
    "                                            discount_curve, \n",
    "                                            discount_curve_deriv, \n",
    "                                            call_put,\n",
    "                                            number_integration_points))    \\\n",
    "                             - log(denominator(boundary_interp, \n",
    "                                               moneyness, \n",
    "                                               x, \n",
    "                                               maturity, \n",
    "                                               vol, \n",
    "                                               discounted_forward_curve, \n",
    "                                               discounted_forward_curve_deriv, \n",
    "                                               call_put,\n",
    "                                               number_integration_points))\n",
    "    \n",
    "    return [values[0]] + [boundary_iter(.5*maturity*(1+x)) for x in points[1:]]"
   ]
  },
  {
   "cell_type": "code",
   "execution_count": 52,
   "metadata": {},
   "outputs": [],
   "source": [
    "def CalculateEarlyExerciseBoundaryByIteration(initial_boundary,\n",
    "                                              moneyness,\n",
    "                                              maturity,\n",
    "                                              vol,\n",
    "                                              call_put,\n",
    "                                              discount_curve,\n",
    "                                              discount_curve_deriv,\n",
    "                                              discounted_forward_curve,\n",
    "                                              discounted_forward_curve_deriv,\n",
    "                                              number_integration_points,\n",
    "                                              number_interpolation_points,\n",
    "                                              number_iterations):\n",
    "    points, values = SampleValues(initial_boundary, maturity, number_interpolation_points)\n",
    "    new_values = [values]\n",
    "    for i in range(number_iterations):\n",
    "        new_values.append(EarlyExerciseBoundaryIteration(new_values[i],\n",
    "                                                         points,\n",
    "                                                         moneyness,\n",
    "                                                         maturity,\n",
    "                                                         vol,\n",
    "                                                         call_put,\n",
    "                                                         discount_curve,\n",
    "                                                         discount_curve_deriv,\n",
    "                                                         discounted_forward_curve,\n",
    "                                                         discounted_forward_curve_deriv,\n",
    "                                                         number_integration_points))\n",
    "        \n",
    "    return new_values"
   ]
  },
  {
   "cell_type": "code",
   "execution_count": 53,
   "metadata": {},
   "outputs": [
    {
     "output_type": "display_data",
     "data": {
      "text/plain": "<Figure size 432x288 with 1 Axes>",
      "image/svg+xml": "<?xml version=\"1.0\" encoding=\"utf-8\" standalone=\"no\"?>\r\n<!DOCTYPE svg PUBLIC \"-//W3C//DTD SVG 1.1//EN\"\r\n  \"http://www.w3.org/Graphics/SVG/1.1/DTD/svg11.dtd\">\r\n<!-- Created with matplotlib (https://matplotlib.org/) -->\r\n<svg height=\"252.018125pt\" version=\"1.1\" viewBox=\"0 0 390.345312 252.018125\" width=\"390.345312pt\" xmlns=\"http://www.w3.org/2000/svg\" xmlns:xlink=\"http://www.w3.org/1999/xlink\">\r\n <defs>\r\n  <style type=\"text/css\">\r\n*{stroke-linecap:butt;stroke-linejoin:round;}\r\n  </style>\r\n </defs>\r\n <g id=\"figure_1\">\r\n  <g id=\"patch_1\">\r\n   <path d=\"M 0 252.018125 \r\nL 390.345312 252.018125 \r\nL 390.345312 0 \r\nL 0 0 \r\nz\r\n\" style=\"fill:none;\"/>\r\n  </g>\r\n  <g id=\"axes_1\">\r\n   <g id=\"patch_2\">\r\n    <path d=\"M 44.845313 228.14 \r\nL 379.645313 228.14 \r\nL 379.645313 10.7 \r\nL 44.845313 10.7 \r\nz\r\n\" style=\"fill:#ffffff;\"/>\r\n   </g>\r\n   <g id=\"matplotlib.axis_1\">\r\n    <g id=\"xtick_1\">\r\n     <g id=\"line2d_1\">\r\n      <defs>\r\n       <path d=\"M 0 0 \r\nL 0 3.5 \r\n\" id=\"m8435343bae\" style=\"stroke:#000000;stroke-width:0.8;\"/>\r\n      </defs>\r\n      <g>\r\n       <use style=\"stroke:#000000;stroke-width:0.8;\" x=\"60.063494\" xlink:href=\"#m8435343bae\" y=\"228.14\"/>\r\n      </g>\r\n     </g>\r\n     <g id=\"text_1\">\r\n      <!-- 0.0 -->\r\n      <defs>\r\n       <path d=\"M 31.78125 66.40625 \r\nQ 24.171875 66.40625 20.328125 58.90625 \r\nQ 16.5 51.421875 16.5 36.375 \r\nQ 16.5 21.390625 20.328125 13.890625 \r\nQ 24.171875 6.390625 31.78125 6.390625 \r\nQ 39.453125 6.390625 43.28125 13.890625 \r\nQ 47.125 21.390625 47.125 36.375 \r\nQ 47.125 51.421875 43.28125 58.90625 \r\nQ 39.453125 66.40625 31.78125 66.40625 \r\nz\r\nM 31.78125 74.21875 \r\nQ 44.046875 74.21875 50.515625 64.515625 \r\nQ 56.984375 54.828125 56.984375 36.375 \r\nQ 56.984375 17.96875 50.515625 8.265625 \r\nQ 44.046875 -1.421875 31.78125 -1.421875 \r\nQ 19.53125 -1.421875 13.0625 8.265625 \r\nQ 6.59375 17.96875 6.59375 36.375 \r\nQ 6.59375 54.828125 13.0625 64.515625 \r\nQ 19.53125 74.21875 31.78125 74.21875 \r\nz\r\n\" id=\"DejaVuSans-48\"/>\r\n       <path d=\"M 10.6875 12.40625 \r\nL 21 12.40625 \r\nL 21 0 \r\nL 10.6875 0 \r\nz\r\n\" id=\"DejaVuSans-46\"/>\r\n      </defs>\r\n      <g transform=\"translate(52.111932 242.738437)scale(0.1 -0.1)\">\r\n       <use xlink:href=\"#DejaVuSans-48\"/>\r\n       <use x=\"63.623047\" xlink:href=\"#DejaVuSans-46\"/>\r\n       <use x=\"95.410156\" xlink:href=\"#DejaVuSans-48\"/>\r\n      </g>\r\n     </g>\r\n    </g>\r\n    <g id=\"xtick_2\">\r\n     <g id=\"line2d_2\">\r\n      <g>\r\n       <use style=\"stroke:#000000;stroke-width:0.8;\" x=\"121.551098\" xlink:href=\"#m8435343bae\" y=\"228.14\"/>\r\n      </g>\r\n     </g>\r\n     <g id=\"text_2\">\r\n      <!-- 0.2 -->\r\n      <defs>\r\n       <path d=\"M 19.1875 8.296875 \r\nL 53.609375 8.296875 \r\nL 53.609375 0 \r\nL 7.328125 0 \r\nL 7.328125 8.296875 \r\nQ 12.9375 14.109375 22.625 23.890625 \r\nQ 32.328125 33.6875 34.8125 36.53125 \r\nQ 39.546875 41.84375 41.421875 45.53125 \r\nQ 43.3125 49.21875 43.3125 52.78125 \r\nQ 43.3125 58.59375 39.234375 62.25 \r\nQ 35.15625 65.921875 28.609375 65.921875 \r\nQ 23.96875 65.921875 18.8125 64.3125 \r\nQ 13.671875 62.703125 7.8125 59.421875 \r\nL 7.8125 69.390625 \r\nQ 13.765625 71.78125 18.9375 73 \r\nQ 24.125 74.21875 28.421875 74.21875 \r\nQ 39.75 74.21875 46.484375 68.546875 \r\nQ 53.21875 62.890625 53.21875 53.421875 \r\nQ 53.21875 48.921875 51.53125 44.890625 \r\nQ 49.859375 40.875 45.40625 35.40625 \r\nQ 44.1875 33.984375 37.640625 27.21875 \r\nQ 31.109375 20.453125 19.1875 8.296875 \r\nz\r\n\" id=\"DejaVuSans-50\"/>\r\n      </defs>\r\n      <g transform=\"translate(113.599535 242.738437)scale(0.1 -0.1)\">\r\n       <use xlink:href=\"#DejaVuSans-48\"/>\r\n       <use x=\"63.623047\" xlink:href=\"#DejaVuSans-46\"/>\r\n       <use x=\"95.410156\" xlink:href=\"#DejaVuSans-50\"/>\r\n      </g>\r\n     </g>\r\n    </g>\r\n    <g id=\"xtick_3\">\r\n     <g id=\"line2d_3\">\r\n      <g>\r\n       <use style=\"stroke:#000000;stroke-width:0.8;\" x=\"183.038701\" xlink:href=\"#m8435343bae\" y=\"228.14\"/>\r\n      </g>\r\n     </g>\r\n     <g id=\"text_3\">\r\n      <!-- 0.4 -->\r\n      <defs>\r\n       <path d=\"M 37.796875 64.3125 \r\nL 12.890625 25.390625 \r\nL 37.796875 25.390625 \r\nz\r\nM 35.203125 72.90625 \r\nL 47.609375 72.90625 \r\nL 47.609375 25.390625 \r\nL 58.015625 25.390625 \r\nL 58.015625 17.1875 \r\nL 47.609375 17.1875 \r\nL 47.609375 0 \r\nL 37.796875 0 \r\nL 37.796875 17.1875 \r\nL 4.890625 17.1875 \r\nL 4.890625 26.703125 \r\nz\r\n\" id=\"DejaVuSans-52\"/>\r\n      </defs>\r\n      <g transform=\"translate(175.087138 242.738437)scale(0.1 -0.1)\">\r\n       <use xlink:href=\"#DejaVuSans-48\"/>\r\n       <use x=\"63.623047\" xlink:href=\"#DejaVuSans-46\"/>\r\n       <use x=\"95.410156\" xlink:href=\"#DejaVuSans-52\"/>\r\n      </g>\r\n     </g>\r\n    </g>\r\n    <g id=\"xtick_4\">\r\n     <g id=\"line2d_4\">\r\n      <g>\r\n       <use style=\"stroke:#000000;stroke-width:0.8;\" x=\"244.526304\" xlink:href=\"#m8435343bae\" y=\"228.14\"/>\r\n      </g>\r\n     </g>\r\n     <g id=\"text_4\">\r\n      <!-- 0.6 -->\r\n      <defs>\r\n       <path d=\"M 33.015625 40.375 \r\nQ 26.375 40.375 22.484375 35.828125 \r\nQ 18.609375 31.296875 18.609375 23.390625 \r\nQ 18.609375 15.53125 22.484375 10.953125 \r\nQ 26.375 6.390625 33.015625 6.390625 \r\nQ 39.65625 6.390625 43.53125 10.953125 \r\nQ 47.40625 15.53125 47.40625 23.390625 \r\nQ 47.40625 31.296875 43.53125 35.828125 \r\nQ 39.65625 40.375 33.015625 40.375 \r\nz\r\nM 52.59375 71.296875 \r\nL 52.59375 62.3125 \r\nQ 48.875 64.0625 45.09375 64.984375 \r\nQ 41.3125 65.921875 37.59375 65.921875 \r\nQ 27.828125 65.921875 22.671875 59.328125 \r\nQ 17.53125 52.734375 16.796875 39.40625 \r\nQ 19.671875 43.65625 24.015625 45.921875 \r\nQ 28.375 48.1875 33.59375 48.1875 \r\nQ 44.578125 48.1875 50.953125 41.515625 \r\nQ 57.328125 34.859375 57.328125 23.390625 \r\nQ 57.328125 12.15625 50.6875 5.359375 \r\nQ 44.046875 -1.421875 33.015625 -1.421875 \r\nQ 20.359375 -1.421875 13.671875 8.265625 \r\nQ 6.984375 17.96875 6.984375 36.375 \r\nQ 6.984375 53.65625 15.1875 63.9375 \r\nQ 23.390625 74.21875 37.203125 74.21875 \r\nQ 40.921875 74.21875 44.703125 73.484375 \r\nQ 48.484375 72.75 52.59375 71.296875 \r\nz\r\n\" id=\"DejaVuSans-54\"/>\r\n      </defs>\r\n      <g transform=\"translate(236.574742 242.738437)scale(0.1 -0.1)\">\r\n       <use xlink:href=\"#DejaVuSans-48\"/>\r\n       <use x=\"63.623047\" xlink:href=\"#DejaVuSans-46\"/>\r\n       <use x=\"95.410156\" xlink:href=\"#DejaVuSans-54\"/>\r\n      </g>\r\n     </g>\r\n    </g>\r\n    <g id=\"xtick_5\">\r\n     <g id=\"line2d_5\">\r\n      <g>\r\n       <use style=\"stroke:#000000;stroke-width:0.8;\" x=\"306.013908\" xlink:href=\"#m8435343bae\" y=\"228.14\"/>\r\n      </g>\r\n     </g>\r\n     <g id=\"text_5\">\r\n      <!-- 0.8 -->\r\n      <defs>\r\n       <path d=\"M 31.78125 34.625 \r\nQ 24.75 34.625 20.71875 30.859375 \r\nQ 16.703125 27.09375 16.703125 20.515625 \r\nQ 16.703125 13.921875 20.71875 10.15625 \r\nQ 24.75 6.390625 31.78125 6.390625 \r\nQ 38.8125 6.390625 42.859375 10.171875 \r\nQ 46.921875 13.96875 46.921875 20.515625 \r\nQ 46.921875 27.09375 42.890625 30.859375 \r\nQ 38.875 34.625 31.78125 34.625 \r\nz\r\nM 21.921875 38.8125 \r\nQ 15.578125 40.375 12.03125 44.71875 \r\nQ 8.5 49.078125 8.5 55.328125 \r\nQ 8.5 64.0625 14.71875 69.140625 \r\nQ 20.953125 74.21875 31.78125 74.21875 \r\nQ 42.671875 74.21875 48.875 69.140625 \r\nQ 55.078125 64.0625 55.078125 55.328125 \r\nQ 55.078125 49.078125 51.53125 44.71875 \r\nQ 48 40.375 41.703125 38.8125 \r\nQ 48.828125 37.15625 52.796875 32.3125 \r\nQ 56.78125 27.484375 56.78125 20.515625 \r\nQ 56.78125 9.90625 50.3125 4.234375 \r\nQ 43.84375 -1.421875 31.78125 -1.421875 \r\nQ 19.734375 -1.421875 13.25 4.234375 \r\nQ 6.78125 9.90625 6.78125 20.515625 \r\nQ 6.78125 27.484375 10.78125 32.3125 \r\nQ 14.796875 37.15625 21.921875 38.8125 \r\nz\r\nM 18.3125 54.390625 \r\nQ 18.3125 48.734375 21.84375 45.5625 \r\nQ 25.390625 42.390625 31.78125 42.390625 \r\nQ 38.140625 42.390625 41.71875 45.5625 \r\nQ 45.3125 48.734375 45.3125 54.390625 \r\nQ 45.3125 60.0625 41.71875 63.234375 \r\nQ 38.140625 66.40625 31.78125 66.40625 \r\nQ 25.390625 66.40625 21.84375 63.234375 \r\nQ 18.3125 60.0625 18.3125 54.390625 \r\nz\r\n\" id=\"DejaVuSans-56\"/>\r\n      </defs>\r\n      <g transform=\"translate(298.062345 242.738437)scale(0.1 -0.1)\">\r\n       <use xlink:href=\"#DejaVuSans-48\"/>\r\n       <use x=\"63.623047\" xlink:href=\"#DejaVuSans-46\"/>\r\n       <use x=\"95.410156\" xlink:href=\"#DejaVuSans-56\"/>\r\n      </g>\r\n     </g>\r\n    </g>\r\n    <g id=\"xtick_6\">\r\n     <g id=\"line2d_6\">\r\n      <g>\r\n       <use style=\"stroke:#000000;stroke-width:0.8;\" x=\"367.501511\" xlink:href=\"#m8435343bae\" y=\"228.14\"/>\r\n      </g>\r\n     </g>\r\n     <g id=\"text_6\">\r\n      <!-- 1.0 -->\r\n      <defs>\r\n       <path d=\"M 12.40625 8.296875 \r\nL 28.515625 8.296875 \r\nL 28.515625 63.921875 \r\nL 10.984375 60.40625 \r\nL 10.984375 69.390625 \r\nL 28.421875 72.90625 \r\nL 38.28125 72.90625 \r\nL 38.28125 8.296875 \r\nL 54.390625 8.296875 \r\nL 54.390625 0 \r\nL 12.40625 0 \r\nz\r\n\" id=\"DejaVuSans-49\"/>\r\n      </defs>\r\n      <g transform=\"translate(359.549948 242.738437)scale(0.1 -0.1)\">\r\n       <use xlink:href=\"#DejaVuSans-49\"/>\r\n       <use x=\"63.623047\" xlink:href=\"#DejaVuSans-46\"/>\r\n       <use x=\"95.410156\" xlink:href=\"#DejaVuSans-48\"/>\r\n      </g>\r\n     </g>\r\n    </g>\r\n   </g>\r\n   <g id=\"matplotlib.axis_2\">\r\n    <g id=\"ytick_1\">\r\n     <g id=\"line2d_7\">\r\n      <defs>\r\n       <path d=\"M 0 0 \r\nL -3.5 0 \r\n\" id=\"m047f109ce5\" style=\"stroke:#000000;stroke-width:0.8;\"/>\r\n      </defs>\r\n      <g>\r\n       <use style=\"stroke:#000000;stroke-width:0.8;\" x=\"44.845313\" xlink:href=\"#m047f109ce5\" y=\"198.371587\"/>\r\n      </g>\r\n     </g>\r\n     <g id=\"text_7\">\r\n      <!-- −0.20 -->\r\n      <defs>\r\n       <path d=\"M 10.59375 35.5 \r\nL 73.1875 35.5 \r\nL 73.1875 27.203125 \r\nL 10.59375 27.203125 \r\nz\r\n\" id=\"DejaVuSans-8722\"/>\r\n      </defs>\r\n      <g transform=\"translate(7.2 202.170805)scale(0.1 -0.1)\">\r\n       <use xlink:href=\"#DejaVuSans-8722\"/>\r\n       <use x=\"83.789062\" xlink:href=\"#DejaVuSans-48\"/>\r\n       <use x=\"147.412109\" xlink:href=\"#DejaVuSans-46\"/>\r\n       <use x=\"179.199219\" xlink:href=\"#DejaVuSans-50\"/>\r\n       <use x=\"242.822266\" xlink:href=\"#DejaVuSans-48\"/>\r\n      </g>\r\n     </g>\r\n    </g>\r\n    <g id=\"ytick_2\">\r\n     <g id=\"line2d_8\">\r\n      <g>\r\n       <use style=\"stroke:#000000;stroke-width:0.8;\" x=\"44.845313\" xlink:href=\"#m047f109ce5\" y=\"166.000985\"/>\r\n      </g>\r\n     </g>\r\n     <g id=\"text_8\">\r\n      <!-- −0.18 -->\r\n      <g transform=\"translate(7.2 169.800204)scale(0.1 -0.1)\">\r\n       <use xlink:href=\"#DejaVuSans-8722\"/>\r\n       <use x=\"83.789062\" xlink:href=\"#DejaVuSans-48\"/>\r\n       <use x=\"147.412109\" xlink:href=\"#DejaVuSans-46\"/>\r\n       <use x=\"179.199219\" xlink:href=\"#DejaVuSans-49\"/>\r\n       <use x=\"242.822266\" xlink:href=\"#DejaVuSans-56\"/>\r\n      </g>\r\n     </g>\r\n    </g>\r\n    <g id=\"ytick_3\">\r\n     <g id=\"line2d_9\">\r\n      <g>\r\n       <use style=\"stroke:#000000;stroke-width:0.8;\" x=\"44.845313\" xlink:href=\"#m047f109ce5\" y=\"133.630384\"/>\r\n      </g>\r\n     </g>\r\n     <g id=\"text_9\">\r\n      <!-- −0.16 -->\r\n      <g transform=\"translate(7.2 137.429603)scale(0.1 -0.1)\">\r\n       <use xlink:href=\"#DejaVuSans-8722\"/>\r\n       <use x=\"83.789062\" xlink:href=\"#DejaVuSans-48\"/>\r\n       <use x=\"147.412109\" xlink:href=\"#DejaVuSans-46\"/>\r\n       <use x=\"179.199219\" xlink:href=\"#DejaVuSans-49\"/>\r\n       <use x=\"242.822266\" xlink:href=\"#DejaVuSans-54\"/>\r\n      </g>\r\n     </g>\r\n    </g>\r\n    <g id=\"ytick_4\">\r\n     <g id=\"line2d_10\">\r\n      <g>\r\n       <use style=\"stroke:#000000;stroke-width:0.8;\" x=\"44.845313\" xlink:href=\"#m047f109ce5\" y=\"101.259783\"/>\r\n      </g>\r\n     </g>\r\n     <g id=\"text_10\">\r\n      <!-- −0.14 -->\r\n      <g transform=\"translate(7.2 105.059002)scale(0.1 -0.1)\">\r\n       <use xlink:href=\"#DejaVuSans-8722\"/>\r\n       <use x=\"83.789062\" xlink:href=\"#DejaVuSans-48\"/>\r\n       <use x=\"147.412109\" xlink:href=\"#DejaVuSans-46\"/>\r\n       <use x=\"179.199219\" xlink:href=\"#DejaVuSans-49\"/>\r\n       <use x=\"242.822266\" xlink:href=\"#DejaVuSans-52\"/>\r\n      </g>\r\n     </g>\r\n    </g>\r\n    <g id=\"ytick_5\">\r\n     <g id=\"line2d_11\">\r\n      <g>\r\n       <use style=\"stroke:#000000;stroke-width:0.8;\" x=\"44.845313\" xlink:href=\"#m047f109ce5\" y=\"68.889182\"/>\r\n      </g>\r\n     </g>\r\n     <g id=\"text_11\">\r\n      <!-- −0.12 -->\r\n      <g transform=\"translate(7.2 72.688401)scale(0.1 -0.1)\">\r\n       <use xlink:href=\"#DejaVuSans-8722\"/>\r\n       <use x=\"83.789062\" xlink:href=\"#DejaVuSans-48\"/>\r\n       <use x=\"147.412109\" xlink:href=\"#DejaVuSans-46\"/>\r\n       <use x=\"179.199219\" xlink:href=\"#DejaVuSans-49\"/>\r\n       <use x=\"242.822266\" xlink:href=\"#DejaVuSans-50\"/>\r\n      </g>\r\n     </g>\r\n    </g>\r\n    <g id=\"ytick_6\">\r\n     <g id=\"line2d_12\">\r\n      <g>\r\n       <use style=\"stroke:#000000;stroke-width:0.8;\" x=\"44.845313\" xlink:href=\"#m047f109ce5\" y=\"36.518581\"/>\r\n      </g>\r\n     </g>\r\n     <g id=\"text_12\">\r\n      <!-- −0.10 -->\r\n      <g transform=\"translate(7.2 40.3178)scale(0.1 -0.1)\">\r\n       <use xlink:href=\"#DejaVuSans-8722\"/>\r\n       <use x=\"83.789062\" xlink:href=\"#DejaVuSans-48\"/>\r\n       <use x=\"147.412109\" xlink:href=\"#DejaVuSans-46\"/>\r\n       <use x=\"179.199219\" xlink:href=\"#DejaVuSans-49\"/>\r\n       <use x=\"242.822266\" xlink:href=\"#DejaVuSans-48\"/>\r\n      </g>\r\n     </g>\r\n    </g>\r\n   </g>\r\n   <g id=\"line2d_13\">\r\n    <path clip-path=\"url(#pad11230c8b)\" d=\"M 60.063494 218.218096 \r\nL 63.137874 217.948623 \r\nL 66.212255 217.933877 \r\nL 69.286635 218.256364 \r\nL 72.361015 217.988551 \r\nL 75.435395 217.922679 \r\nL 78.509775 217.730427 \r\nL 81.584155 217.033084 \r\nL 84.658536 216.434445 \r\nL 87.732916 216.619569 \r\nL 90.807296 217.411197 \r\nL 93.881676 218.017351 \r\nL 96.956056 217.881759 \r\nL 100.030436 217.120019 \r\nL 103.104817 216.255934 \r\nL 106.179197 215.687942 \r\nL 109.253577 215.409148 \r\nL 112.327957 215.140722 \r\nL 115.402337 214.665884 \r\nL 118.476717 214.05128 \r\nL 121.551098 213.600129 \r\nL 124.625478 213.610791 \r\nL 127.699858 214.140476 \r\nL 130.774238 214.93971 \r\nL 133.848618 215.587865 \r\nL 136.922998 215.728901 \r\nL 139.997379 215.257496 \r\nL 143.071759 214.352159 \r\nL 146.146139 213.350918 \r\nL 149.220519 212.553255 \r\nL 152.294899 212.063031 \r\nL 155.369279 211.753176 \r\nL 158.44366 211.360244 \r\nL 161.51804 210.648131 \r\nL 164.59242 209.549311 \r\nL 167.6668 208.210461 \r\nL 170.74118 206.922793 \r\nL 173.81556 205.976683 \r\nL 176.889941 205.516005 \r\nL 179.964321 205.464644 \r\nL 183.038701 205.560087 \r\nL 186.113081 205.47642 \r\nL 189.187461 204.97692 \r\nL 192.261841 204.023619 \r\nL 195.336222 202.792586 \r\nL 198.410602 201.588242 \r\nL 201.484982 200.696954 \r\nL 204.559362 200.248177 \r\nL 207.633742 200.147978 \r\nL 210.708122 200.116834 \r\nL 213.782503 199.815815 \r\nL 216.856883 199.004263 \r\nL 219.931263 197.656247 \r\nL 223.005643 195.980169 \r\nL 226.080023 194.328924 \r\nL 229.154403 193.038394 \r\nL 232.228784 192.267002 \r\nL 235.303164 191.91209 \r\nL 238.377544 191.646722 \r\nL 241.451924 191.066146 \r\nL 244.526304 189.880198 \r\nL 247.600684 188.061522 \r\nL 250.675065 185.874093 \r\nL 253.749445 183.758918 \r\nL 256.823825 182.122333 \r\nL 259.898205 181.125171 \r\nL 262.972585 180.58045 \r\nL 266.046965 180.023081 \r\nL 269.121346 178.932872 \r\nL 272.195726 177.008876 \r\nL 275.270106 174.352432 \r\nL 278.344486 171.446648 \r\nL 281.418866 168.917166 \r\nL 284.493246 167.181134 \r\nL 287.567627 166.173818 \r\nL 290.642007 165.329077 \r\nL 293.716387 163.867578 \r\nL 296.790767 161.264356 \r\nL 299.865147 157.624785 \r\nL 302.939527 153.698674 \r\nL 306.013908 150.446661 \r\nL 309.088288 148.369817 \r\nL 312.162668 147.045121 \r\nL 315.237048 145.279091 \r\nL 318.311428 141.92354 \r\nL 321.385808 136.855306 \r\nL 324.460189 131.297806 \r\nL 327.534569 126.957079 \r\nL 330.608949 124.396758 \r\nL 333.683329 122.076248 \r\nL 336.757709 117.442776 \r\nL 339.832089 109.719965 \r\nL 342.90647 101.535689 \r\nL 345.98085 96.251379 \r\nL 349.05523 92.478055 \r\nL 352.12961 83.92154 \r\nL 355.20399 69.756823 \r\nL 358.27837 59.650091 \r\nL 361.352751 49.223868 \r\nL 364.427131 20.675926 \r\n\" style=\"fill:none;stroke:#1f77b4;stroke-linecap:square;stroke-width:1.5;\"/>\r\n   </g>\r\n   <g id=\"line2d_14\">\r\n    <path clip-path=\"url(#pad11230c8b)\" d=\"M 60.063494 218.236074 \r\nL 63.137874 217.997132 \r\nL 66.212255 217.995615 \r\nL 69.286635 218.227553 \r\nL 72.361015 217.946126 \r\nL 75.435395 217.89151 \r\nL 78.509775 217.746756 \r\nL 81.584155 217.149746 \r\nL 84.658536 216.623271 \r\nL 87.732916 216.764061 \r\nL 90.807296 217.409103 \r\nL 93.881676 217.867329 \r\nL 96.956056 217.673263 \r\nL 100.030436 216.957206 \r\nL 103.104817 216.193526 \r\nL 106.179197 215.7229 \r\nL 109.253577 215.514416 \r\nL 112.327957 215.299464 \r\nL 115.402337 214.877434 \r\nL 118.476717 214.310892 \r\nL 121.551098 213.87583 \r\nL 124.625478 213.839694 \r\nL 127.699858 214.24981 \r\nL 130.774238 214.879522 \r\nL 133.848618 215.355034 \r\nL 136.922998 215.368476 \r\nL 139.997379 214.841464 \r\nL 143.071759 213.948258 \r\nL 146.146139 212.998207 \r\nL 149.220519 212.255772 \r\nL 152.294899 211.802185 \r\nL 155.369279 211.509711 \r\nL 158.44366 211.132738 \r\nL 161.51804 210.458136 \r\nL 164.59242 209.431233 \r\nL 167.6668 208.192399 \r\nL 170.74118 207.009001 \r\nL 173.81556 206.141039 \r\nL 176.889941 205.710067 \r\nL 179.964321 205.636546 \r\nL 183.038701 205.6753 \r\nL 186.113081 205.53064 \r\nL 189.187461 204.995153 \r\nL 192.261841 204.046063 \r\nL 195.336222 202.853977 \r\nL 198.410602 201.700281 \r\nL 201.484982 200.841917 \r\nL 204.559362 200.386624 \r\nL 207.633742 200.23703 \r\nL 210.708122 200.130579 \r\nL 213.782503 199.758396 \r\nL 216.856883 198.909382 \r\nL 219.931263 197.572961 \r\nL 223.005643 195.951126 \r\nL 226.080023 194.370865 \r\nL 229.154403 193.133991 \r\nL 232.228784 192.372242 \r\nL 235.303164 191.976354 \r\nL 238.377544 191.63671 \r\nL 241.451924 190.982548 \r\nL 244.526304 189.758867 \r\nL 247.600684 187.95777 \r\nL 250.675065 185.836726 \r\nL 253.749445 183.806017 \r\nL 256.823825 182.230789 \r\nL 259.898205 181.240125 \r\nL 262.972585 180.641363 \r\nL 266.046965 179.994473 \r\nL 269.121346 178.824264 \r\nL 272.195726 176.87255 \r\nL 275.270106 174.258157 \r\nL 278.344486 171.444779 \r\nL 281.418866 169.009267 \r\nL 284.493246 167.315448 \r\nL 287.567627 166.271068 \r\nL 290.642007 165.327163 \r\nL 293.716387 163.760743 \r\nL 296.790767 161.111892 \r\nL 299.865147 157.519349 \r\nL 302.939527 153.708646 \r\nL 306.013908 150.567115 \r\nL 309.088288 148.517717 \r\nL 312.162668 147.110353 \r\nL 315.237048 145.204106 \r\nL 318.311428 141.755474 \r\nL 321.385808 136.721952 \r\nL 324.460189 131.309704 \r\nL 327.534569 127.104736 \r\nL 330.608949 124.539362 \r\nL 333.683329 122.060776 \r\nL 336.757709 117.267617 \r\nL 339.832089 109.569075 \r\nL 342.90647 101.58949 \r\nL 345.98085 96.437255 \r\nL 349.05523 92.510208 \r\nL 352.12961 83.720086 \r\nL 355.20399 69.669268 \r\nL 358.27837 59.839345 \r\nL 361.352751 49.195337 \r\nL 364.427131 20.583636 \r\n\" style=\"fill:none;stroke:#ff7f0e;stroke-linecap:square;stroke-width:1.5;\"/>\r\n   </g>\r\n   <g id=\"patch_3\">\r\n    <path d=\"M 44.845313 228.14 \r\nL 44.845313 10.7 \r\n\" style=\"fill:none;stroke:#000000;stroke-linecap:square;stroke-linejoin:miter;stroke-width:0.8;\"/>\r\n   </g>\r\n   <g id=\"patch_4\">\r\n    <path d=\"M 379.645313 228.14 \r\nL 379.645313 10.7 \r\n\" style=\"fill:none;stroke:#000000;stroke-linecap:square;stroke-linejoin:miter;stroke-width:0.8;\"/>\r\n   </g>\r\n   <g id=\"patch_5\">\r\n    <path d=\"M 44.845313 228.14 \r\nL 379.645313 228.14 \r\n\" style=\"fill:none;stroke:#000000;stroke-linecap:square;stroke-linejoin:miter;stroke-width:0.8;\"/>\r\n   </g>\r\n   <g id=\"patch_6\">\r\n    <path d=\"M 44.845313 10.7 \r\nL 379.645313 10.7 \r\n\" style=\"fill:none;stroke:#000000;stroke-linecap:square;stroke-linejoin:miter;stroke-width:0.8;\"/>\r\n   </g>\r\n  </g>\r\n </g>\r\n <defs>\r\n  <clipPath id=\"pad11230c8b\">\r\n   <rect height=\"217.44\" width=\"334.8\" x=\"44.845313\" y=\"10.7\"/>\r\n  </clipPath>\r\n </defs>\r\n</svg>\r\n",
      "image/png": "[encoded data removed]"
     },
     "metadata": {
      "needs_background": "light"
     }
    }
   ],
   "source": [
    "number_integration_points = 13\n",
    "number_interpolation_points = 35\n",
    "number_iterations = 10\n",
    "iteration_values = CalculateEarlyExerciseBoundaryByIteration(boundary,\n",
    "                                                             moneyness,\n",
    "                                                             T,\n",
    "                                                             vol,\n",
    "                                                             call_put,\n",
    "                                                             discount_curve,\n",
    "                                                             discount_curve_deriv,\n",
    "                                                             discounted_forward_curve,\n",
    "                                                             discounted_forward_curve_deriv,\n",
    "                                                             number_integration_points,\n",
    "                                                             number_interpolation_points,\n",
    "                                                             number_iterations)\n",
    "    \n",
    "t = numpy.arange(0, T, 0.01)\n",
    "fig, ax = plt.subplots()\n",
    "for iter_values in iteration_values[-1:-3:-1]:\n",
    "    boundary_interp = lambda x: ChebyshevInterpolation(iter_values, 2.*x/T-1.)\n",
    "#     s = [discounted_forward(x) / discount(x) * exp(boundary_interp(x)) for x in t]\n",
    "    s = [boundary_interp(x) for x in t]\n",
    "    ax.plot(t, s)\n",
    "\n",
    "plt.show()"
   ]
  },
  {
   "cell_type": "code",
   "execution_count": 54,
   "metadata": {},
   "outputs": [
    {
     "output_type": "execute_result",
     "data": {
      "text/plain": "[0.0,\n 0.0001790460544295784,\n 0.00012409466438629947,\n 0.0005954079852143442,\n 0.0008679134659269166,\n 0.000988499945430959,\n 0.0008333657560752847,\n 0.0008070348993611905,\n 0.0006572784352249462,\n 0.0006286596116676206,\n 0.0005152290002577192,\n 0.00048545358120080976,\n 0.0004006425171326397,\n 0.0003872454913855014,\n 0.00031751040676759597,\n 0.0003118040368117691,\n 0.00025417954028496807,\n 0.0002272057634246568,\n 0.00032065493337427774,\n 9.380217560651931e-05,\n 0.0005351866053796504,\n 0.0001957730231348035,\n 0.0007507735807008401,\n 0.0012297133606098732,\n 0.0001055997663478303,\n 0.0007433981075369374,\n 0.0002042891552277484,\n 0.0005912779893417297,\n 0.00020780582294490017,\n 0.00036429984573848473,\n 9.356967841257099e-05,\n 0.00010654856859929816,\n 0.0002270234749113124,\n 6.660458168743628e-05,\n 3.352082070367215e-05,\n 5.232731803454049e-05]"
     },
     "metadata": {},
     "execution_count": 54
    }
   ],
   "source": [
    "[fabs(x - y)/max(fabs(x), fabs(y)) for x, y in zip(iteration_values[-1], iteration_values[-2])]"
   ]
  },
  {
   "cell_type": "code",
   "execution_count": 55,
   "metadata": {},
   "outputs": [],
   "source": [
    "def EuropeanOptionPrice(spot,\n",
    "                        strike,\n",
    "                        initial,\n",
    "                        maturity,\n",
    "                        vol,\n",
    "                        discount_curve,\n",
    "                        forward_curve,\n",
    "                        call_put):\n",
    "    forward_funding = forward_curve(maturity) / forward_curve(initial)\n",
    "    forward_discounting = discount_curve(maturity) / discount_curve(initial)\n",
    "    forward = spot * forward_funding\n",
    "\n",
    "    moneyness = log(forward/strike)\n",
    "    var = vol * sqrt(maturity - initial)\n",
    "    dOne = moneyness/var + .5*var\n",
    "    dTwo = dOne - var\n",
    "\n",
    "    return call_put * forward_discounting * (forward * scipy.stats.norm.cdf(call_put * dOne)\n",
    "                                            -strike  * scipy.stats.norm.cdf(call_put * dTwo))"
   ]
  },
  {
   "cell_type": "code",
   "execution_count": 57,
   "metadata": {},
   "outputs": [
    {
     "output_type": "execute_result",
     "data": {
      "text/plain": "2.5080867100156397"
     },
     "metadata": {},
     "execution_count": 57
    }
   ],
   "source": [
    "EuropeanOptionPrice(S, K, 0., T, vol, discount_curve, forward_curve, -1)"
   ]
  },
  {
   "cell_type": "code",
   "execution_count": 60,
   "metadata": {},
   "outputs": [],
   "source": [
    "def AmericanOptionPriceFromEarlyExerciseBoundary(spot,\n",
    "                                                 strike,\n",
    "                                                 initial,\n",
    "                                                 maturity,\n",
    "                                                 vol,\n",
    "                                                 call_put,\n",
    "                                                 discount_curve,\n",
    "                                                 discount_curve_deriv,\n",
    "                                                 discounted_forward_curve,\n",
    "                                                 discounted_forward_curve_deriv,\n",
    "                                                 boundary,\n",
    "                                                 number_valuation_integration_points):\n",
    "    forward_curve = lambda x: discounted_forward_curve(x) / discount_curve(x)\n",
    "    result = EuropeanOptionPrice(spot, strike, initial, maturity, vol, discount_curve, forward_curve, call_put)\n",
    "    \n",
    "    temp = log(spot / forward_curve(initial))\n",
    "    moneyness = lambda x: temp - boundary(x)\n",
    "    var = lambda x: vol * sqrt(x - initial)\n",
    "    dOne = lambda x: moneyness(x)/var(x) + .5*var(x)\n",
    "    dTwo = lambda x: dOne(x) - var(x)\n",
    "    integrand = lambda x: call_put * ( discount_curve_deriv(x) * strike\n",
    "                                     * scipy.stats.norm.cdf(call_put * dTwo(x))\n",
    "                                     - discounted_forward_curve_deriv(x) * spot / forward_curve(initial)\n",
    "                                     * scipy.stats.norm.cdf(call_put * dOne(x)) )\n",
    "    result += GaussLegendreIntegration(integrand, initial, maturity, number_valuation_integration_points) / discount_curve(initial)\n",
    "    \n",
    "    return result"
   ]
  },
  {
   "cell_type": "code",
   "execution_count": 68,
   "metadata": {},
   "outputs": [
    {
     "output_type": "execute_result",
     "data": {
      "text/plain": "2.740709177268308"
     },
     "metadata": {},
     "execution_count": 68
    }
   ],
   "source": [
    "number_valuation_integration_points = 27\n",
    "boundary_interp = lambda x: ChebyshevInterpolation(iteration_values[-1], 2.*x/T-1.)\n",
    "AmericanOptionPriceFromEarlyExerciseBoundary(S, K, 0., T, vol, -1, discount_curve, discount_curve_deriv,\n",
    "                                             discounted_forward_curve, discounted_forward_curve_deriv, boundary_interp, \n",
    "                                             number_valuation_integration_points)"
   ]
  },
  {
   "cell_type": "code",
   "execution_count": null,
   "metadata": {},
   "outputs": [],
   "source": []
  }
 ],
 "metadata": {
  "kernelspec": {
   "display_name": "Python 3",
   "language": "python",
   "name": "python3"
  },
  "language_info": {
   "codemirror_mode": {
    "name": "ipython",
    "version": 3
   },
   "file_extension": ".py",
   "mimetype": "text/x-python",
   "name": "python",
   "nbconvert_exporter": "python",
   "pygments_lexer": "ipython3",
   "version": "3.7.3-final"
  }
 },
 "nbformat": 4,
 "nbformat_minor": 2
}